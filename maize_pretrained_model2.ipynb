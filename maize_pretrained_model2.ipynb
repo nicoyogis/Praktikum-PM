{
 "cells": [
  {
   "cell_type": "code",
   "execution_count": 1,
   "metadata": {
    "id": "jL-2ziF3_5Qq"
   },
   "outputs": [],
   "source": [
    "import json\n",
    "import os  # Create directories, list files\n",
    "import zipfile\n",
    "import shutil\n",
    "import cv2\n",
    "import matplotlib.pyplot as plt\n",
    "import matplotlib.image as mping\n",
    "import numpy as np\n",
    "from keras.preprocessing.image import ImageDataGenerator\n",
    "from keras.utils.np_utils import to_categorical\n",
    "from tensorflow.keras.models import Sequential\n",
    "from tensorflow.keras.layers import InputLayer, Dense, Conv2D, MaxPool2D, Dropout, Flatten, BatchNormalization \n",
    "from tensorflow.keras.optimizers import Adam, RMSprop\n",
    "from sklearn.metrics import classification_report, confusion_matrix\n",
    "from mlxtend.plotting import plot_confusion_matrix\n",
    "import time\n",
    "from tensorflow.keras.callbacks import EarlyStopping, ReduceLROnPlateau, ModelCheckpoint"
   ]
  },
  {
   "cell_type": "code",
   "execution_count": 2,
   "metadata": {
    "id": "4kB5_hLXAHhT"
   },
   "outputs": [],
   "source": [
    "input_folder=\"dataset\"\n",
    "base_dir=\"dataset_split\""
   ]
  },
  {
   "cell_type": "code",
   "execution_count": 3,
   "metadata": {},
   "outputs": [],
   "source": [
    "import os\n",
    "Train = os.path.join(base_dir, 'Train')\n",
    "Test = os.path.join(base_dir, 'Test')\n",
    "Val = os.path.join(base_dir, 'Val')"
   ]
  },
  {
   "cell_type": "code",
   "execution_count": 4,
   "metadata": {
    "id": "CNB8oPEDAd-Z"
   },
   "outputs": [],
   "source": [
    "# define generator\n",
    "from keras.preprocessing.image import ImageDataGenerator\n",
    "train_gen = ImageDataGenerator(\n",
    "    \n",
    "  #  shear_range = 0.2,\n",
    "  #  zoom_range=0.2,\n",
    "  #  horizontal_flip=True,\n",
    "  #  vertical_flip=True,\n",
    "  #  rotation_range=20,\n",
    "  #  width_shift_range=0.2,\n",
    "  #  height_shift_range=0.2,\n",
    "    rescale = 1./255,\n",
    "    # featurewise_center=True,\n",
    "    # featurewise_std_normalization=True,\n",
    "    rotation_range=20, \n",
    "    width_shift_range=0.1, \n",
    "    height_shift_range=0.1, \n",
    "    shear_range=0.2, \n",
    "    zoom_range=0.2, horizontal_flip=True, \n",
    "    fill_mode=\"nearest\"\n",
    "    \n",
    ")\n",
    "\n",
    "val_gen = ImageDataGenerator(rescale = 1./255)\n",
    "test_gen = ImageDataGenerator(rescale = 1./255)"
   ]
  },
  {
   "cell_type": "code",
   "execution_count": 5,
   "metadata": {
    "id": "Trty2sZ4AeuY"
   },
   "outputs": [],
   "source": [
    "batch_size = 64"
   ]
  },
  {
   "cell_type": "code",
   "execution_count": 6,
   "metadata": {
    "colab": {
     "base_uri": "https://localhost:8080/"
    },
    "id": "hg72tntPAgvx",
    "outputId": "2f6cda4f-1cac-4ea8-974d-0966761334e0"
   },
   "outputs": [
    {
     "name": "stdout",
     "output_type": "stream",
     "text": [
      "Found 1600 images belonging to 4 classes.\n",
      "Found 380 images belonging to 4 classes.\n",
      "Found 20 images belonging to 4 classes.\n"
     ]
    }
   ],
   "source": [
    "train_generator = train_gen.flow_from_directory(\n",
    "    Train,\n",
    "    target_size=(150, 150),\n",
    "    class_mode='categorical',\n",
    "    color_mode=\"rgb\",\n",
    "    batch_size=batch_size\n",
    ")\n",
    "\n",
    "validation_generator = val_gen.flow_from_directory(\n",
    "    Val,\n",
    "    target_size=(150,150),\n",
    "    class_mode='categorical',\n",
    "    color_mode=\"rgb\",\n",
    "    shuffle=False,\n",
    "    batch_size=batch_size\n",
    ")\n",
    "test_generator = test_gen.flow_from_directory(\n",
    "    Test,\n",
    "    target_size=(150,150),\n",
    "    class_mode='categorical',\n",
    "    color_mode=\"rgb\",\n",
    "    shuffle=False,\n",
    "    batch_size=batch_size\n",
    ")"
   ]
  },
  {
   "cell_type": "code",
   "execution_count": 7,
   "metadata": {
    "id": "q1B35yIaClVk"
   },
   "outputs": [],
   "source": [
    "from keras.applications.vgg19 import VGG19\n",
    "from keras.models import Model\n",
    "from keras import backend as K\n",
    "from keras.layers import Dense,Flatten"
   ]
  },
  {
   "cell_type": "code",
   "execution_count": 8,
   "metadata": {
    "id": "NTnn5qMXCutr"
   },
   "outputs": [],
   "source": [
    "import tensorflow as tf"
   ]
  },
  {
   "cell_type": "code",
   "execution_count": 9,
   "metadata": {},
   "outputs": [],
   "source": [
    "from keras.applications.vgg19 import VGG19\n",
    "\n",
    "vgg19_model = VGG19(input_shape =(150,150,3) , include_top=False)"
   ]
  },
  {
   "cell_type": "code",
   "execution_count": 10,
   "metadata": {},
   "outputs": [
    {
     "name": "stdout",
     "output_type": "stream",
     "text": [
      "Model: \"vgg19\"\n",
      "_________________________________________________________________\n",
      " Layer (type)                Output Shape              Param #   \n",
      "=================================================================\n",
      " input_1 (InputLayer)        [(None, 150, 150, 3)]     0         \n",
      "                                                                 \n",
      " block1_conv1 (Conv2D)       (None, 150, 150, 64)      1792      \n",
      "                                                                 \n",
      " block1_conv2 (Conv2D)       (None, 150, 150, 64)      36928     \n",
      "                                                                 \n",
      " block1_pool (MaxPooling2D)  (None, 75, 75, 64)        0         \n",
      "                                                                 \n",
      " block2_conv1 (Conv2D)       (None, 75, 75, 128)       73856     \n",
      "                                                                 \n",
      " block2_conv2 (Conv2D)       (None, 75, 75, 128)       147584    \n",
      "                                                                 \n",
      " block2_pool (MaxPooling2D)  (None, 37, 37, 128)       0         \n",
      "                                                                 \n",
      " block3_conv1 (Conv2D)       (None, 37, 37, 256)       295168    \n",
      "                                                                 \n",
      " block3_conv2 (Conv2D)       (None, 37, 37, 256)       590080    \n",
      "                                                                 \n",
      " block3_conv3 (Conv2D)       (None, 37, 37, 256)       590080    \n",
      "                                                                 \n",
      " block3_conv4 (Conv2D)       (None, 37, 37, 256)       590080    \n",
      "                                                                 \n",
      " block3_pool (MaxPooling2D)  (None, 18, 18, 256)       0         \n",
      "                                                                 \n",
      " block4_conv1 (Conv2D)       (None, 18, 18, 512)       1180160   \n",
      "                                                                 \n",
      " block4_conv2 (Conv2D)       (None, 18, 18, 512)       2359808   \n",
      "                                                                 \n",
      " block4_conv3 (Conv2D)       (None, 18, 18, 512)       2359808   \n",
      "                                                                 \n",
      " block4_conv4 (Conv2D)       (None, 18, 18, 512)       2359808   \n",
      "                                                                 \n",
      " block4_pool (MaxPooling2D)  (None, 9, 9, 512)         0         \n",
      "                                                                 \n",
      " block5_conv1 (Conv2D)       (None, 9, 9, 512)         2359808   \n",
      "                                                                 \n",
      " block5_conv2 (Conv2D)       (None, 9, 9, 512)         2359808   \n",
      "                                                                 \n",
      " block5_conv3 (Conv2D)       (None, 9, 9, 512)         2359808   \n",
      "                                                                 \n",
      " block5_conv4 (Conv2D)       (None, 9, 9, 512)         2359808   \n",
      "                                                                 \n",
      " block5_pool (MaxPooling2D)  (None, 4, 4, 512)         0         \n",
      "                                                                 \n",
      "=================================================================\n",
      "Total params: 20,024,384\n",
      "Trainable params: 20,024,384\n",
      "Non-trainable params: 0\n",
      "_________________________________________________________________\n"
     ]
    }
   ],
   "source": [
    "vgg19_model.summary()"
   ]
  },
  {
   "cell_type": "code",
   "execution_count": 11,
   "metadata": {},
   "outputs": [],
   "source": [
    "model_mod1 = vgg19_model.layers[-1].output\n",
    "flatten = tf.keras.layers.Flatten()(model_mod1)\n",
    "denser = tf.keras.layers.Dense(128, activation = 'relu')(flatten)\n",
    "denser = tf.keras.layers.Dense(256, activation = 'relu')(flatten)\n",
    "dropout = tf.keras.layers.Dropout(0.5)(denser)\n",
    "prediction = tf.keras.layers.Dense(4, activation = 'softmax')(dropout)"
   ]
  },
  {
   "cell_type": "code",
   "execution_count": 12,
   "metadata": {},
   "outputs": [],
   "source": [
    "model3= tf.keras.Model(inputs=vgg19_model.input, outputs=prediction)"
   ]
  },
  {
   "cell_type": "code",
   "execution_count": 13,
   "metadata": {},
   "outputs": [],
   "source": [
    "for layer in vgg19_model.layers:\n",
    "  layer.trainable = False"
   ]
  },
  {
   "cell_type": "code",
   "execution_count": 14,
   "metadata": {},
   "outputs": [
    {
     "name": "stdout",
     "output_type": "stream",
     "text": [
      "Model: \"model\"\n",
      "_________________________________________________________________\n",
      " Layer (type)                Output Shape              Param #   \n",
      "=================================================================\n",
      " input_1 (InputLayer)        [(None, 150, 150, 3)]     0         \n",
      "                                                                 \n",
      " block1_conv1 (Conv2D)       (None, 150, 150, 64)      1792      \n",
      "                                                                 \n",
      " block1_conv2 (Conv2D)       (None, 150, 150, 64)      36928     \n",
      "                                                                 \n",
      " block1_pool (MaxPooling2D)  (None, 75, 75, 64)        0         \n",
      "                                                                 \n",
      " block2_conv1 (Conv2D)       (None, 75, 75, 128)       73856     \n",
      "                                                                 \n",
      " block2_conv2 (Conv2D)       (None, 75, 75, 128)       147584    \n",
      "                                                                 \n",
      " block2_pool (MaxPooling2D)  (None, 37, 37, 128)       0         \n",
      "                                                                 \n",
      " block3_conv1 (Conv2D)       (None, 37, 37, 256)       295168    \n",
      "                                                                 \n",
      " block3_conv2 (Conv2D)       (None, 37, 37, 256)       590080    \n",
      "                                                                 \n",
      " block3_conv3 (Conv2D)       (None, 37, 37, 256)       590080    \n",
      "                                                                 \n",
      " block3_conv4 (Conv2D)       (None, 37, 37, 256)       590080    \n",
      "                                                                 \n",
      " block3_pool (MaxPooling2D)  (None, 18, 18, 256)       0         \n",
      "                                                                 \n",
      " block4_conv1 (Conv2D)       (None, 18, 18, 512)       1180160   \n",
      "                                                                 \n",
      " block4_conv2 (Conv2D)       (None, 18, 18, 512)       2359808   \n",
      "                                                                 \n",
      " block4_conv3 (Conv2D)       (None, 18, 18, 512)       2359808   \n",
      "                                                                 \n",
      " block4_conv4 (Conv2D)       (None, 18, 18, 512)       2359808   \n",
      "                                                                 \n",
      " block4_pool (MaxPooling2D)  (None, 9, 9, 512)         0         \n",
      "                                                                 \n",
      " block5_conv1 (Conv2D)       (None, 9, 9, 512)         2359808   \n",
      "                                                                 \n",
      " block5_conv2 (Conv2D)       (None, 9, 9, 512)         2359808   \n",
      "                                                                 \n",
      " block5_conv3 (Conv2D)       (None, 9, 9, 512)         2359808   \n",
      "                                                                 \n",
      " block5_conv4 (Conv2D)       (None, 9, 9, 512)         2359808   \n",
      "                                                                 \n",
      " block5_pool (MaxPooling2D)  (None, 4, 4, 512)         0         \n",
      "                                                                 \n",
      " flatten (Flatten)           (None, 8192)              0         \n",
      "                                                                 \n",
      " dense_1 (Dense)             (None, 256)               2097408   \n",
      "                                                                 \n",
      " dropout (Dropout)           (None, 256)               0         \n",
      "                                                                 \n",
      " dense_2 (Dense)             (None, 4)                 1028      \n",
      "                                                                 \n",
      "=================================================================\n",
      "Total params: 22,122,820\n",
      "Trainable params: 2,098,436\n",
      "Non-trainable params: 20,024,384\n",
      "_________________________________________________________________\n"
     ]
    }
   ],
   "source": [
    "model3.summary()"
   ]
  },
  {
   "cell_type": "code",
   "execution_count": 15,
   "metadata": {},
   "outputs": [],
   "source": [
    "model3.compile(Adam(learning_rate=0.0001), loss='categorical_crossentropy', \n",
    "              metrics=['accuracy'])"
   ]
  },
  {
   "cell_type": "code",
   "execution_count": 16,
   "metadata": {},
   "outputs": [
    {
     "name": "stdout",
     "output_type": "stream",
     "text": [
      "Epoch 1/150\n",
      "25/25 [==============================] - 84s 2s/step - loss: 1.1343 - accuracy: 0.5225 - val_loss: 0.6081 - val_accuracy: 0.8026\n",
      "Epoch 2/150\n",
      "25/25 [==============================] - 28s 1s/step - loss: 0.6393 - accuracy: 0.7494 - val_loss: 0.4728 - val_accuracy: 0.8000\n",
      "Epoch 3/150\n",
      "25/25 [==============================] - 28s 1s/step - loss: 0.5165 - accuracy: 0.8100 - val_loss: 0.3768 - val_accuracy: 0.8632\n",
      "Epoch 4/150\n",
      "25/25 [==============================] - 37s 2s/step - loss: 0.4610 - accuracy: 0.8275 - val_loss: 0.3568 - val_accuracy: 0.8553\n",
      "Epoch 5/150\n",
      "25/25 [==============================] - 32s 1s/step - loss: 0.4174 - accuracy: 0.8369 - val_loss: 0.3387 - val_accuracy: 0.8658\n",
      "Epoch 6/150\n",
      "25/25 [==============================] - 54s 2s/step - loss: 0.3841 - accuracy: 0.8456 - val_loss: 0.3116 - val_accuracy: 0.8789\n",
      "Epoch 7/150\n",
      "25/25 [==============================] - 86s 3s/step - loss: 0.3733 - accuracy: 0.8562 - val_loss: 0.3124 - val_accuracy: 0.8737\n",
      "Epoch 8/150\n",
      "25/25 [==============================] - 75s 3s/step - loss: 0.3747 - accuracy: 0.8569 - val_loss: 0.2990 - val_accuracy: 0.8816\n",
      "Epoch 9/150\n",
      "25/25 [==============================] - 65s 3s/step - loss: 0.3390 - accuracy: 0.8650 - val_loss: 0.2835 - val_accuracy: 0.8842\n",
      "Epoch 10/150\n",
      "25/25 [==============================] - 73s 3s/step - loss: 0.3293 - accuracy: 0.8619 - val_loss: 0.2998 - val_accuracy: 0.8553\n",
      "Epoch 11/150\n",
      "25/25 [==============================] - 72s 3s/step - loss: 0.3282 - accuracy: 0.8700 - val_loss: 0.2707 - val_accuracy: 0.9000\n",
      "Epoch 12/150\n",
      "25/25 [==============================] - 64s 3s/step - loss: 0.3098 - accuracy: 0.8831 - val_loss: 0.3123 - val_accuracy: 0.8658\n",
      "Epoch 13/150\n",
      "25/25 [==============================] - 57s 2s/step - loss: 0.3018 - accuracy: 0.8850 - val_loss: 0.2612 - val_accuracy: 0.8974\n",
      "Epoch 14/150\n",
      "25/25 [==============================] - 49s 2s/step - loss: 0.3018 - accuracy: 0.8775 - val_loss: 0.2567 - val_accuracy: 0.8895\n",
      "Epoch 15/150\n",
      "25/25 [==============================] - 49s 2s/step - loss: 0.2819 - accuracy: 0.8944 - val_loss: 0.2542 - val_accuracy: 0.9000\n",
      "Epoch 16/150\n",
      "25/25 [==============================] - 46s 2s/step - loss: 0.2841 - accuracy: 0.8881 - val_loss: 0.2558 - val_accuracy: 0.9026\n",
      "Epoch 17/150\n",
      "25/25 [==============================] - 43s 2s/step - loss: 0.2874 - accuracy: 0.8869 - val_loss: 0.2554 - val_accuracy: 0.8868\n",
      "Epoch 18/150\n",
      "25/25 [==============================] - 42s 2s/step - loss: 0.2705 - accuracy: 0.8894 - val_loss: 0.2484 - val_accuracy: 0.8763\n",
      "Epoch 19/150\n",
      "25/25 [==============================] - 40s 2s/step - loss: 0.2724 - accuracy: 0.8975 - val_loss: 0.2450 - val_accuracy: 0.8947\n",
      "Epoch 20/150\n",
      "25/25 [==============================] - 39s 2s/step - loss: 0.2717 - accuracy: 0.9025 - val_loss: 0.2340 - val_accuracy: 0.8974\n",
      "Epoch 21/150\n",
      "25/25 [==============================] - 37s 1s/step - loss: 0.2547 - accuracy: 0.9019 - val_loss: 0.2274 - val_accuracy: 0.9026\n",
      "Epoch 22/150\n",
      "25/25 [==============================] - 37s 1s/step - loss: 0.2567 - accuracy: 0.9000 - val_loss: 0.2284 - val_accuracy: 0.9026\n",
      "Epoch 23/150\n",
      "25/25 [==============================] - 35s 1s/step - loss: 0.2502 - accuracy: 0.9056 - val_loss: 0.2342 - val_accuracy: 0.9105\n",
      "Epoch 24/150\n",
      "25/25 [==============================] - 35s 1s/step - loss: 0.2461 - accuracy: 0.9050 - val_loss: 0.2256 - val_accuracy: 0.8921\n",
      "Epoch 25/150\n",
      "25/25 [==============================] - 34s 1s/step - loss: 0.2508 - accuracy: 0.9038 - val_loss: 0.2652 - val_accuracy: 0.8974\n",
      "Epoch 26/150\n",
      "25/25 [==============================] - 33s 1s/step - loss: 0.2404 - accuracy: 0.9038 - val_loss: 0.2246 - val_accuracy: 0.8921\n",
      "Epoch 27/150\n",
      "25/25 [==============================] - 34s 1s/step - loss: 0.2319 - accuracy: 0.9131 - val_loss: 0.2223 - val_accuracy: 0.8947\n",
      "Epoch 28/150\n",
      "25/25 [==============================] - 33s 1s/step - loss: 0.2314 - accuracy: 0.9087 - val_loss: 0.2257 - val_accuracy: 0.8974\n",
      "Epoch 29/150\n",
      "25/25 [==============================] - 33s 1s/step - loss: 0.2179 - accuracy: 0.9200 - val_loss: 0.2192 - val_accuracy: 0.8947\n",
      "Epoch 30/150\n",
      "25/25 [==============================] - 32s 1s/step - loss: 0.2051 - accuracy: 0.9219 - val_loss: 0.2165 - val_accuracy: 0.8921\n",
      "Epoch 31/150\n",
      "25/25 [==============================] - 31s 1s/step - loss: 0.2106 - accuracy: 0.9212 - val_loss: 0.2278 - val_accuracy: 0.8842\n",
      "Epoch 32/150\n",
      "25/25 [==============================] - 31s 1s/step - loss: 0.2324 - accuracy: 0.9112 - val_loss: 0.2242 - val_accuracy: 0.8947\n",
      "Epoch 33/150\n",
      "25/25 [==============================] - 31s 1s/step - loss: 0.2185 - accuracy: 0.9144 - val_loss: 0.2177 - val_accuracy: 0.8947\n",
      "Epoch 34/150\n",
      "25/25 [==============================] - 31s 1s/step - loss: 0.2273 - accuracy: 0.9044 - val_loss: 0.2419 - val_accuracy: 0.8947\n",
      "Epoch 35/150\n",
      "25/25 [==============================] - 31s 1s/step - loss: 0.2276 - accuracy: 0.9119 - val_loss: 0.2094 - val_accuracy: 0.9053\n",
      "Epoch 36/150\n",
      "25/25 [==============================] - 31s 1s/step - loss: 0.2012 - accuracy: 0.9175 - val_loss: 0.2181 - val_accuracy: 0.8921\n",
      "Epoch 37/150\n",
      "25/25 [==============================] - 31s 1s/step - loss: 0.2155 - accuracy: 0.9206 - val_loss: 0.2086 - val_accuracy: 0.9026\n",
      "Epoch 38/150\n",
      "25/25 [==============================] - 31s 1s/step - loss: 0.2203 - accuracy: 0.9187 - val_loss: 0.2225 - val_accuracy: 0.8947\n",
      "Epoch 39/150\n",
      "25/25 [==============================] - 30s 1s/step - loss: 0.2099 - accuracy: 0.9187 - val_loss: 0.2102 - val_accuracy: 0.9053\n",
      "Epoch 40/150\n",
      "25/25 [==============================] - 30s 1s/step - loss: 0.2178 - accuracy: 0.9131 - val_loss: 0.2270 - val_accuracy: 0.8921\n",
      "Epoch 41/150\n",
      "25/25 [==============================] - 30s 1s/step - loss: 0.1997 - accuracy: 0.9219 - val_loss: 0.2070 - val_accuracy: 0.9079\n",
      "Epoch 42/150\n",
      "25/25 [==============================] - 30s 1s/step - loss: 0.1917 - accuracy: 0.9281 - val_loss: 0.2091 - val_accuracy: 0.9026\n",
      "Epoch 43/150\n",
      "25/25 [==============================] - 30s 1s/step - loss: 0.1864 - accuracy: 0.9225 - val_loss: 0.2047 - val_accuracy: 0.9026\n",
      "Epoch 44/150\n",
      "25/25 [==============================] - 30s 1s/step - loss: 0.1924 - accuracy: 0.9269 - val_loss: 0.2060 - val_accuracy: 0.9000\n",
      "Epoch 45/150\n",
      "25/25 [==============================] - 30s 1s/step - loss: 0.1982 - accuracy: 0.9219 - val_loss: 0.2075 - val_accuracy: 0.9000\n",
      "Epoch 46/150\n",
      "25/25 [==============================] - 29s 1s/step - loss: 0.2006 - accuracy: 0.9262 - val_loss: 0.2098 - val_accuracy: 0.8974\n",
      "Epoch 47/150\n",
      "25/25 [==============================] - 29s 1s/step - loss: 0.1973 - accuracy: 0.9244 - val_loss: 0.2156 - val_accuracy: 0.9000\n",
      "Epoch 48/150\n",
      "25/25 [==============================] - 29s 1s/step - loss: 0.1940 - accuracy: 0.9269 - val_loss: 0.2288 - val_accuracy: 0.9053\n",
      "Epoch 49/150\n",
      "25/25 [==============================] - 29s 1s/step - loss: 0.1770 - accuracy: 0.9306 - val_loss: 0.2151 - val_accuracy: 0.9026\n",
      "Epoch 50/150\n",
      "25/25 [==============================] - 29s 1s/step - loss: 0.1811 - accuracy: 0.9300 - val_loss: 0.2191 - val_accuracy: 0.9000\n",
      "Epoch 51/150\n",
      "25/25 [==============================] - 29s 1s/step - loss: 0.1990 - accuracy: 0.9206 - val_loss: 0.2112 - val_accuracy: 0.9053\n",
      "Epoch 52/150\n",
      "25/25 [==============================] - 29s 1s/step - loss: 0.1860 - accuracy: 0.9294 - val_loss: 0.2032 - val_accuracy: 0.9079\n",
      "Epoch 53/150\n",
      "25/25 [==============================] - 29s 1s/step - loss: 0.1686 - accuracy: 0.9438 - val_loss: 0.2025 - val_accuracy: 0.9026\n",
      "Epoch 54/150\n",
      "25/25 [==============================] - 29s 1s/step - loss: 0.1768 - accuracy: 0.9300 - val_loss: 0.1969 - val_accuracy: 0.9053\n",
      "Epoch 55/150\n",
      "25/25 [==============================] - 29s 1s/step - loss: 0.1902 - accuracy: 0.9269 - val_loss: 0.2075 - val_accuracy: 0.9053\n",
      "Epoch 56/150\n",
      "25/25 [==============================] - 29s 1s/step - loss: 0.1862 - accuracy: 0.9312 - val_loss: 0.2038 - val_accuracy: 0.9053\n",
      "Epoch 57/150\n",
      "25/25 [==============================] - 29s 1s/step - loss: 0.1675 - accuracy: 0.9356 - val_loss: 0.2021 - val_accuracy: 0.9079\n",
      "Epoch 58/150\n",
      "25/25 [==============================] - 29s 1s/step - loss: 0.1693 - accuracy: 0.9325 - val_loss: 0.2019 - val_accuracy: 0.9053\n"
     ]
    },
    {
     "name": "stdout",
     "output_type": "stream",
     "text": [
      "Epoch 59/150\n",
      "25/25 [==============================] - 29s 1s/step - loss: 0.1702 - accuracy: 0.9356 - val_loss: 0.2004 - val_accuracy: 0.9079\n",
      "Epoch 60/150\n",
      "25/25 [==============================] - 29s 1s/step - loss: 0.1574 - accuracy: 0.9388 - val_loss: 0.2070 - val_accuracy: 0.9026\n",
      "Epoch 61/150\n",
      "25/25 [==============================] - 29s 1s/step - loss: 0.1808 - accuracy: 0.9281 - val_loss: 0.1987 - val_accuracy: 0.9105\n",
      "Epoch 62/150\n",
      "25/25 [==============================] - 29s 1s/step - loss: 0.1628 - accuracy: 0.9337 - val_loss: 0.2020 - val_accuracy: 0.9026\n",
      "Epoch 63/150\n",
      "25/25 [==============================] - 29s 1s/step - loss: 0.1640 - accuracy: 0.9425 - val_loss: 0.2062 - val_accuracy: 0.9105\n",
      "Epoch 64/150\n",
      "25/25 [==============================] - 29s 1s/step - loss: 0.1796 - accuracy: 0.9281 - val_loss: 0.1926 - val_accuracy: 0.9079\n",
      "Epoch 65/150\n",
      "25/25 [==============================] - 29s 1s/step - loss: 0.1674 - accuracy: 0.9337 - val_loss: 0.2010 - val_accuracy: 0.9105\n",
      "Epoch 66/150\n",
      "25/25 [==============================] - 29s 1s/step - loss: 0.1696 - accuracy: 0.9312 - val_loss: 0.1964 - val_accuracy: 0.9053\n",
      "Epoch 67/150\n",
      "25/25 [==============================] - 29s 1s/step - loss: 0.1677 - accuracy: 0.9356 - val_loss: 0.1981 - val_accuracy: 0.9000\n",
      "Epoch 68/150\n",
      "25/25 [==============================] - 29s 1s/step - loss: 0.1595 - accuracy: 0.9406 - val_loss: 0.1953 - val_accuracy: 0.9000\n",
      "Epoch 69/150\n",
      "25/25 [==============================] - 29s 1s/step - loss: 0.1607 - accuracy: 0.9356 - val_loss: 0.2118 - val_accuracy: 0.9000\n",
      "Epoch 70/150\n",
      "25/25 [==============================] - 29s 1s/step - loss: 0.1731 - accuracy: 0.9337 - val_loss: 0.1892 - val_accuracy: 0.9000\n",
      "Epoch 71/150\n",
      "25/25 [==============================] - 28s 1s/step - loss: 0.1538 - accuracy: 0.9438 - val_loss: 0.1976 - val_accuracy: 0.9053\n",
      "Epoch 72/150\n",
      "25/25 [==============================] - 29s 1s/step - loss: 0.1509 - accuracy: 0.9419 - val_loss: 0.1971 - val_accuracy: 0.9105\n",
      "Epoch 73/150\n",
      "25/25 [==============================] - 29s 1s/step - loss: 0.1566 - accuracy: 0.9350 - val_loss: 0.2017 - val_accuracy: 0.9000\n",
      "Epoch 74/150\n",
      "25/25 [==============================] - 28s 1s/step - loss: 0.1570 - accuracy: 0.9375 - val_loss: 0.2184 - val_accuracy: 0.9026\n",
      "Epoch 75/150\n",
      "25/25 [==============================] - 29s 1s/step - loss: 0.1499 - accuracy: 0.9369 - val_loss: 0.2093 - val_accuracy: 0.9079\n",
      "Epoch 76/150\n",
      "25/25 [==============================] - 29s 1s/step - loss: 0.1436 - accuracy: 0.9488 - val_loss: 0.2004 - val_accuracy: 0.9105\n",
      "Epoch 77/150\n",
      "25/25 [==============================] - 29s 1s/step - loss: 0.1509 - accuracy: 0.9494 - val_loss: 0.2216 - val_accuracy: 0.9053\n",
      "Epoch 78/150\n",
      "25/25 [==============================] - 29s 1s/step - loss: 0.1481 - accuracy: 0.9494 - val_loss: 0.1924 - val_accuracy: 0.9158\n",
      "Epoch 79/150\n",
      "25/25 [==============================] - 29s 1s/step - loss: 0.1539 - accuracy: 0.9369 - val_loss: 0.1976 - val_accuracy: 0.9105\n",
      "Epoch 80/150\n",
      "25/25 [==============================] - 29s 1s/step - loss: 0.1460 - accuracy: 0.9438 - val_loss: 0.1956 - val_accuracy: 0.9079\n",
      "Epoch 81/150\n",
      "25/25 [==============================] - 29s 1s/step - loss: 0.1490 - accuracy: 0.9425 - val_loss: 0.1860 - val_accuracy: 0.9158\n",
      "Epoch 82/150\n",
      "25/25 [==============================] - 29s 1s/step - loss: 0.1617 - accuracy: 0.9356 - val_loss: 0.2091 - val_accuracy: 0.9026\n",
      "Epoch 83/150\n",
      "25/25 [==============================] - 29s 1s/step - loss: 0.1583 - accuracy: 0.9356 - val_loss: 0.2093 - val_accuracy: 0.8921\n",
      "Epoch 84/150\n",
      "25/25 [==============================] - 29s 1s/step - loss: 0.1441 - accuracy: 0.9394 - val_loss: 0.1926 - val_accuracy: 0.9132\n",
      "Epoch 85/150\n",
      "25/25 [==============================] - 29s 1s/step - loss: 0.1554 - accuracy: 0.9419 - val_loss: 0.1845 - val_accuracy: 0.9158\n",
      "Epoch 86/150\n",
      "25/25 [==============================] - 28s 1s/step - loss: 0.1517 - accuracy: 0.9406 - val_loss: 0.2065 - val_accuracy: 0.9132\n",
      "Epoch 87/150\n",
      "25/25 [==============================] - 29s 1s/step - loss: 0.1513 - accuracy: 0.9375 - val_loss: 0.2009 - val_accuracy: 0.9237\n",
      "Epoch 88/150\n",
      "25/25 [==============================] - 29s 1s/step - loss: 0.1409 - accuracy: 0.9556 - val_loss: 0.2001 - val_accuracy: 0.9026\n",
      "Epoch 89/150\n",
      "25/25 [==============================] - 29s 1s/step - loss: 0.1385 - accuracy: 0.9500 - val_loss: 0.1971 - val_accuracy: 0.9026\n",
      "Epoch 90/150\n",
      "25/25 [==============================] - 29s 1s/step - loss: 0.1419 - accuracy: 0.9469 - val_loss: 0.2034 - val_accuracy: 0.9079\n",
      "Epoch 91/150\n",
      "25/25 [==============================] - 30s 1s/step - loss: 0.1460 - accuracy: 0.9444 - val_loss: 0.1957 - val_accuracy: 0.9132\n",
      "Epoch 92/150\n",
      "25/25 [==============================] - 31s 1s/step - loss: 0.1472 - accuracy: 0.9438 - val_loss: 0.1893 - val_accuracy: 0.9079\n",
      "Epoch 93/150\n",
      "25/25 [==============================] - 31s 1s/step - loss: 0.1345 - accuracy: 0.9469 - val_loss: 0.1962 - val_accuracy: 0.9158\n",
      "Epoch 94/150\n",
      "25/25 [==============================] - 31s 1s/step - loss: 0.1490 - accuracy: 0.9413 - val_loss: 0.2026 - val_accuracy: 0.9105\n",
      "Epoch 95/150\n",
      "25/25 [==============================] - 31s 1s/step - loss: 0.1438 - accuracy: 0.9469 - val_loss: 0.1963 - val_accuracy: 0.9105\n",
      "Epoch 96/150\n",
      "25/25 [==============================] - 30s 1s/step - loss: 0.1333 - accuracy: 0.9538 - val_loss: 0.1957 - val_accuracy: 0.9105\n",
      "Epoch 97/150\n",
      "25/25 [==============================] - 29s 1s/step - loss: 0.1270 - accuracy: 0.9531 - val_loss: 0.1978 - val_accuracy: 0.9158\n",
      "Epoch 98/150\n",
      "25/25 [==============================] - 30s 1s/step - loss: 0.1335 - accuracy: 0.9506 - val_loss: 0.1913 - val_accuracy: 0.9132\n",
      "Epoch 99/150\n",
      "25/25 [==============================] - 30s 1s/step - loss: 0.1402 - accuracy: 0.9519 - val_loss: 0.1882 - val_accuracy: 0.9105\n",
      "Epoch 100/150\n",
      "25/25 [==============================] - 30s 1s/step - loss: 0.1463 - accuracy: 0.9450 - val_loss: 0.2068 - val_accuracy: 0.9158\n",
      "Epoch 101/150\n",
      "25/25 [==============================] - 30s 1s/step - loss: 0.1328 - accuracy: 0.9556 - val_loss: 0.1991 - val_accuracy: 0.9105\n",
      "Epoch 102/150\n",
      "25/25 [==============================] - 30s 1s/step - loss: 0.1416 - accuracy: 0.9438 - val_loss: 0.1958 - val_accuracy: 0.9079\n",
      "Epoch 103/150\n",
      "25/25 [==============================] - 30s 1s/step - loss: 0.1308 - accuracy: 0.9488 - val_loss: 0.1891 - val_accuracy: 0.9158\n",
      "Epoch 104/150\n",
      "25/25 [==============================] - 32s 1s/step - loss: 0.1383 - accuracy: 0.9456 - val_loss: 0.2174 - val_accuracy: 0.9079\n",
      "Epoch 105/150\n",
      "25/25 [==============================] - 29s 1s/step - loss: 0.1348 - accuracy: 0.9494 - val_loss: 0.1905 - val_accuracy: 0.9184\n",
      "Epoch 106/150\n",
      "25/25 [==============================] - 29s 1s/step - loss: 0.1357 - accuracy: 0.9475 - val_loss: 0.1987 - val_accuracy: 0.9105\n",
      "Epoch 107/150\n",
      "25/25 [==============================] - 30s 1s/step - loss: 0.1353 - accuracy: 0.9450 - val_loss: 0.2177 - val_accuracy: 0.9079\n",
      "Epoch 108/150\n",
      "25/25 [==============================] - 30s 1s/step - loss: 0.1427 - accuracy: 0.9431 - val_loss: 0.1986 - val_accuracy: 0.9105\n",
      "Epoch 109/150\n",
      "25/25 [==============================] - 30s 1s/step - loss: 0.1238 - accuracy: 0.9556 - val_loss: 0.1897 - val_accuracy: 0.9132\n",
      "Epoch 110/150\n",
      "25/25 [==============================] - 29s 1s/step - loss: 0.1191 - accuracy: 0.9494 - val_loss: 0.1941 - val_accuracy: 0.9105\n",
      "Epoch 111/150\n",
      "25/25 [==============================] - 29s 1s/step - loss: 0.1296 - accuracy: 0.9506 - val_loss: 0.2141 - val_accuracy: 0.9026\n",
      "Epoch 112/150\n",
      "25/25 [==============================] - 29s 1s/step - loss: 0.1204 - accuracy: 0.9556 - val_loss: 0.1874 - val_accuracy: 0.9105\n",
      "Epoch 113/150\n",
      "25/25 [==============================] - 29s 1s/step - loss: 0.1263 - accuracy: 0.9550 - val_loss: 0.1872 - val_accuracy: 0.9132\n",
      "Epoch 114/150\n",
      "25/25 [==============================] - 30s 1s/step - loss: 0.1424 - accuracy: 0.9394 - val_loss: 0.1947 - val_accuracy: 0.8974\n",
      "Epoch 115/150\n",
      "25/25 [==============================] - 29s 1s/step - loss: 0.1281 - accuracy: 0.9588 - val_loss: 0.1901 - val_accuracy: 0.9053\n",
      "Epoch 116/150\n"
     ]
    },
    {
     "name": "stdout",
     "output_type": "stream",
     "text": [
      "25/25 [==============================] - 29s 1s/step - loss: 0.1410 - accuracy: 0.9500 - val_loss: 0.1868 - val_accuracy: 0.9105\n",
      "Epoch 117/150\n",
      "25/25 [==============================] - 29s 1s/step - loss: 0.1164 - accuracy: 0.9538 - val_loss: 0.1959 - val_accuracy: 0.9184\n",
      "Epoch 118/150\n",
      "25/25 [==============================] - 29s 1s/step - loss: 0.1206 - accuracy: 0.9575 - val_loss: 0.1984 - val_accuracy: 0.9158\n",
      "Epoch 119/150\n",
      "25/25 [==============================] - 29s 1s/step - loss: 0.1091 - accuracy: 0.9569 - val_loss: 0.1916 - val_accuracy: 0.9053\n",
      "Epoch 120/150\n",
      "25/25 [==============================] - 29s 1s/step - loss: 0.1288 - accuracy: 0.9506 - val_loss: 0.1949 - val_accuracy: 0.9026\n",
      "Epoch 121/150\n",
      "25/25 [==============================] - 29s 1s/step - loss: 0.1297 - accuracy: 0.9475 - val_loss: 0.1943 - val_accuracy: 0.9105\n",
      "Epoch 122/150\n",
      "25/25 [==============================] - 29s 1s/step - loss: 0.1139 - accuracy: 0.9613 - val_loss: 0.1928 - val_accuracy: 0.9132\n",
      "Epoch 123/150\n",
      "25/25 [==============================] - 29s 1s/step - loss: 0.1306 - accuracy: 0.9519 - val_loss: 0.1961 - val_accuracy: 0.9079\n",
      "Epoch 124/150\n",
      "25/25 [==============================] - 29s 1s/step - loss: 0.1268 - accuracy: 0.9525 - val_loss: 0.1943 - val_accuracy: 0.9079\n",
      "Epoch 125/150\n",
      "25/25 [==============================] - 29s 1s/step - loss: 0.1136 - accuracy: 0.9619 - val_loss: 0.1848 - val_accuracy: 0.9105\n",
      "Epoch 126/150\n",
      "25/25 [==============================] - 29s 1s/step - loss: 0.1354 - accuracy: 0.9481 - val_loss: 0.2105 - val_accuracy: 0.9132\n",
      "Epoch 127/150\n",
      "25/25 [==============================] - 29s 1s/step - loss: 0.1161 - accuracy: 0.9581 - val_loss: 0.2111 - val_accuracy: 0.9237\n",
      "Epoch 128/150\n",
      "25/25 [==============================] - 29s 1s/step - loss: 0.1199 - accuracy: 0.9563 - val_loss: 0.2064 - val_accuracy: 0.9026\n",
      "Epoch 129/150\n",
      "25/25 [==============================] - 29s 1s/step - loss: 0.1229 - accuracy: 0.9538 - val_loss: 0.1929 - val_accuracy: 0.9105\n",
      "Epoch 130/150\n",
      "25/25 [==============================] - 29s 1s/step - loss: 0.1186 - accuracy: 0.9581 - val_loss: 0.1881 - val_accuracy: 0.9105\n",
      "Epoch 131/150\n",
      "25/25 [==============================] - 29s 1s/step - loss: 0.1124 - accuracy: 0.9606 - val_loss: 0.1941 - val_accuracy: 0.9105\n",
      "Epoch 132/150\n",
      "25/25 [==============================] - 29s 1s/step - loss: 0.1129 - accuracy: 0.9550 - val_loss: 0.1843 - val_accuracy: 0.9105\n",
      "Epoch 133/150\n",
      "25/25 [==============================] - 29s 1s/step - loss: 0.1184 - accuracy: 0.9544 - val_loss: 0.1846 - val_accuracy: 0.9105\n",
      "Epoch 134/150\n",
      "25/25 [==============================] - 29s 1s/step - loss: 0.1143 - accuracy: 0.9625 - val_loss: 0.1948 - val_accuracy: 0.9132\n",
      "Epoch 135/150\n",
      "25/25 [==============================] - 29s 1s/step - loss: 0.1243 - accuracy: 0.9525 - val_loss: 0.1943 - val_accuracy: 0.9158\n",
      "Epoch 136/150\n",
      "25/25 [==============================] - 29s 1s/step - loss: 0.1233 - accuracy: 0.9563 - val_loss: 0.1763 - val_accuracy: 0.9184\n",
      "Epoch 137/150\n",
      "25/25 [==============================] - 29s 1s/step - loss: 0.1266 - accuracy: 0.9481 - val_loss: 0.1919 - val_accuracy: 0.9132\n",
      "Epoch 138/150\n",
      "25/25 [==============================] - 29s 1s/step - loss: 0.1106 - accuracy: 0.9606 - val_loss: 0.1878 - val_accuracy: 0.9079\n",
      "Epoch 139/150\n",
      "25/25 [==============================] - 29s 1s/step - loss: 0.1139 - accuracy: 0.9588 - val_loss: 0.1871 - val_accuracy: 0.9105\n",
      "Epoch 140/150\n",
      "25/25 [==============================] - 29s 1s/step - loss: 0.1206 - accuracy: 0.9544 - val_loss: 0.2130 - val_accuracy: 0.9289\n",
      "Epoch 141/150\n",
      "25/25 [==============================] - 29s 1s/step - loss: 0.1253 - accuracy: 0.9531 - val_loss: 0.1826 - val_accuracy: 0.9211\n",
      "Epoch 142/150\n",
      "25/25 [==============================] - 29s 1s/step - loss: 0.1174 - accuracy: 0.9619 - val_loss: 0.2054 - val_accuracy: 0.9079\n",
      "Epoch 143/150\n",
      "25/25 [==============================] - 29s 1s/step - loss: 0.1220 - accuracy: 0.9569 - val_loss: 0.1925 - val_accuracy: 0.9184\n",
      "Epoch 144/150\n",
      "25/25 [==============================] - 29s 1s/step - loss: 0.1036 - accuracy: 0.9600 - val_loss: 0.1958 - val_accuracy: 0.9132\n",
      "Epoch 145/150\n",
      "25/25 [==============================] - 29s 1s/step - loss: 0.1170 - accuracy: 0.9581 - val_loss: 0.1843 - val_accuracy: 0.9184\n",
      "Epoch 146/150\n",
      "25/25 [==============================] - 29s 1s/step - loss: 0.1209 - accuracy: 0.9538 - val_loss: 0.1917 - val_accuracy: 0.9026\n",
      "Epoch 147/150\n",
      "25/25 [==============================] - 29s 1s/step - loss: 0.1133 - accuracy: 0.9556 - val_loss: 0.2016 - val_accuracy: 0.9079\n",
      "Epoch 148/150\n",
      "25/25 [==============================] - 29s 1s/step - loss: 0.0986 - accuracy: 0.9650 - val_loss: 0.1806 - val_accuracy: 0.9105\n",
      "Epoch 149/150\n",
      "25/25 [==============================] - 29s 1s/step - loss: 0.1123 - accuracy: 0.9631 - val_loss: 0.2092 - val_accuracy: 0.9105\n",
      "Epoch 150/150\n",
      "25/25 [==============================] - 29s 1s/step - loss: 0.1325 - accuracy: 0.9488 - val_loss: 0.1872 - val_accuracy: 0.9105\n"
     ]
    }
   ],
   "source": [
    "from tensorflow.keras.callbacks import EarlyStopping, ModelCheckpoint\n",
    "\n",
    "# filepath = \"/content/drive/MyDrive/projek0//model/modeldropout.h5\"\n",
    "# checkpoint = ModelCheckpoint(filepath, monitor='val_acc', verbose=1, \n",
    "#                              save_best_only=True, mode='max')\n",
    "                              \n",
    "                              \n",
    "# callbacks_list = [checkpoint]\n",
    "\n",
    "history2 = model3.fit(train_generator,\n",
    "                    validation_data=validation_generator,\n",
    "                    epochs=150,)"
   ]
  },
  {
   "cell_type": "code",
   "execution_count": 18,
   "metadata": {},
   "outputs": [
    {
     "data": {
      "text/plain": [
       "<matplotlib.legend.Legend at 0x1a5f91942b0>"
      ]
     },
     "execution_count": 18,
     "metadata": {},
     "output_type": "execute_result"
    },
    {
     "data": {
      "image/png": "[encoded data removed]",
      "text/plain": [
       "<Figure size 1440x432 with 2 Axes>"
      ]
     },
     "metadata": {
      "needs_background": "light"
     },
     "output_type": "display_data"
    }
   ],
   "source": [
    "#plot model 1\n",
    "fig, (plt1, plt2) = plt.subplots(1,2, figsize=(20,6)) #buat bikin subplot\n",
    "\n",
    "plt1.figsize=(10,8)\n",
    "plt1.plot(np.arange(0, 150), history2.history[\"loss\"], label=\"loss\")\n",
    "plt1.plot(np.arange(0, 150), history2.history[\"val_loss\"], label=\"val_loss\")\n",
    "plt1.set_title(\"Loss Result Plot\")\n",
    "plt1.set_xlabel(\"Epoch #\")\n",
    "plt1.set_ylabel(\"Loss\")\n",
    "plt1.legend()\n",
    "\n",
    "plt2.figsize=(10,8)\n",
    "plt2.plot(np.arange(0, 150), history2.history[\"accuracy\"], label=\"acc\")\n",
    "plt2.plot(np.arange(0, 150), history2.history[\"val_accuracy\"], label=\"val_acc\")\n",
    "plt2.set_title(\"Acc Result Plot\")\n",
    "plt2.set_xlabel(\"Epoch #\")\n",
    "plt2.set_ylabel(\"Acc\")\n",
    "plt2.legend()"
   ]
  },
  {
   "cell_type": "code",
   "execution_count": 19,
   "metadata": {},
   "outputs": [
    {
     "name": "stdout",
     "output_type": "stream",
     "text": [
      "              precision    recall  f1-score   support\n",
      "\n",
      "           0       0.84      0.82      0.83        95\n",
      "           1       0.98      1.00      0.99        95\n",
      "           2       0.98      0.98      0.98        95\n",
      "           3       0.84      0.84      0.84        95\n",
      "\n",
      "    accuracy                           0.91       380\n",
      "   macro avg       0.91      0.91      0.91       380\n",
      "weighted avg       0.91      0.91      0.91       380\n",
      "\n"
     ]
    }
   ],
   "source": [
    "#Evaluasi menggunakan classification report\n",
    "%matplotlib inline\n",
    "\n",
    "import matplotlib.pyplot as plt\n",
    "import numpy as np\n",
    "from keras.models import load_model\n",
    "from sklearn.metrics import classification_report, confusion_matrix\n",
    "\n",
    "ypred = model3.predict(validation_generator)\n",
    "prediction = np.argmax(ypred, axis=1)\n",
    "print(classification_report(validation_generator.classes, prediction))"
   ]
  },
  {
   "cell_type": "code",
   "execution_count": 20,
   "metadata": {},
   "outputs": [
    {
     "name": "stdout",
     "output_type": "stream",
     "text": [
      "Confusion matrix, without normalization\n",
      "[[78  1  1 15]\n",
      " [ 0 95  0  0]\n",
      " [ 2  0 93  0]\n",
      " [13  1  1 80]]\n"
     ]
    },
    {
     "data": {
      "image/png": "[encoded data removed]",
      "text/plain": [
       "<Figure size 432x288 with 2 Axes>"
      ]
     },
     "metadata": {
      "needs_background": "light"
     },
     "output_type": "display_data"
    }
   ],
   "source": [
    "#Evaluasi menggunakan confusion matrix\n",
    "\n",
    "import itertools\n",
    "def plot_confusion_matrix(cm, classes,\n",
    "                          normalize=False,\n",
    "                          title='Confusion matrix',\n",
    "                          cmap=plt.cm.Blues):\n",
    "    if normalize:\n",
    "        cm = cm.astype('float') / cm.sum(axis=1)[:, np.newaxis]\n",
    "        print(\"Normalized confusion matrix\")\n",
    "    else:\n",
    "        print('Confusion matrix, without normalization')\n",
    "\n",
    "    print(cm)\n",
    "\n",
    "    plt.imshow(cm, interpolation='nearest', cmap=cmap)\n",
    "    plt.title(title)\n",
    "    plt.colorbar()\n",
    "    tick_marks = np.arange(len(classes))\n",
    "    plt.xticks(tick_marks, classes, rotation=45)\n",
    "    plt.yticks(tick_marks, classes)\n",
    "\n",
    "    fmt = '.2f' if normalize else 'd'\n",
    "    thresh = cm.max() / 2.\n",
    "    for i, j in itertools.product(range(cm.shape[0]), range(cm.shape[1])):\n",
    "        plt.text(j, i, format(cm[i, j], fmt),\n",
    "                 horizontalalignment=\"center\",\n",
    "                 color=\"white\" if cm[i, j] > thresh else \"black\")\n",
    "\n",
    "    plt.tight_layout()\n",
    "    plt.ylabel('Actual')\n",
    "    plt.xlabel('Predicted')\n",
    "\n",
    "cnf_matrix=confusion_matrix(validation_generator.classes,prediction)\n",
    "plot_confusion_matrix(cnf_matrix, classes=validation_generator.class_indices)"
   ]
  },
  {
   "cell_type": "code",
   "execution_count": 22,
   "metadata": {},
   "outputs": [],
   "source": [
    "model3.save(\"vgg19.h5\")"
   ]
  },
  {
   "cell_type": "code",
   "execution_count": null,
   "metadata": {},
   "outputs": [],
   "source": []
  }
 ],
 "metadata": {
  "colab": {
   "collapsed_sections": [],
   "name": "maize_pretrained_model.ipynb",
   "provenance": []
  },
  "kernelspec": {
   "display_name": "gputest",
   "language": "python",
   "name": "gputest"
  },
  "language_info": {
   "codemirror_mode": {
    "name": "ipython",
    "version": 3
   },
   "file_extension": ".py",
   "mimetype": "text/x-python",
   "name": "python",
   "nbconvert_exporter": "python",
   "pygments_lexer": "ipython3",
   "version": "3.8.12"
  }
 },
 "nbformat": 4,
 "nbformat_minor": 1
}
