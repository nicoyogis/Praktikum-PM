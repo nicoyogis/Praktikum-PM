{
 "cells": [
  {
   "cell_type": "code",
   "execution_count": 1,
   "metadata": {
    "id": "jL-2ziF3_5Qq"
   },
   "outputs": [],
   "source": [
    "import json\n",
    "import os  # Create directories, list files\n",
    "import zipfile\n",
    "import shutil\n",
    "import cv2\n",
    "import matplotlib.pyplot as plt\n",
    "import matplotlib.image as mping\n",
    "import numpy as np\n",
    "from keras.preprocessing.image import ImageDataGenerator\n",
    "from keras.utils.np_utils import to_categorical\n",
    "from tensorflow.keras.models import Sequential\n",
    "from tensorflow.keras.layers import InputLayer, Dense, Conv2D, MaxPool2D, Dropout, Flatten, BatchNormalization \n",
    "from tensorflow.keras.optimizers import Adam, RMSprop\n",
    "from sklearn.metrics import classification_report, confusion_matrix\n",
    "from mlxtend.plotting import plot_confusion_matrix\n",
    "import time\n",
    "from tensorflow.keras.callbacks import EarlyStopping, ReduceLROnPlateau, ModelCheckpoint"
   ]
  },
  {
   "cell_type": "code",
   "execution_count": 2,
   "metadata": {
    "id": "4kB5_hLXAHhT"
   },
   "outputs": [],
   "source": [
    "input_folder=\"dataset\"\n",
    "base_dir=\"dataset_split\""
   ]
  },
  {
   "cell_type": "code",
   "execution_count": 3,
   "metadata": {},
   "outputs": [],
   "source": [
    "import splitfolders\n",
    "splitfolders.ratio(input= input_folder, output= base_dir, seed=1337, ratio=(0.8, 0.19, 0.01))"
   ]
  },
  {
   "cell_type": "code",
   "execution_count": 4,
   "metadata": {},
   "outputs": [],
   "source": [
    "import os\n",
    "Train = os.path.join(base_dir, 'Train')\n",
    "Test = os.path.join(base_dir, 'Test')\n",
    "Val = os.path.join(base_dir, 'Val')"
   ]
  },
  {
   "cell_type": "code",
   "execution_count": 5,
   "metadata": {
    "id": "CNB8oPEDAd-Z"
   },
   "outputs": [],
   "source": [
    "# define generator\n",
    "from keras.preprocessing.image import ImageDataGenerator\n",
    "train_gen = ImageDataGenerator(\n",
    "    \n",
    "  #  shear_range = 0.2,\n",
    "  #  zoom_range=0.2,\n",
    "  #  horizontal_flip=True,\n",
    "  #  vertical_flip=True,\n",
    "  #  rotation_range=20,\n",
    "  #  width_shift_range=0.2,\n",
    "  #  height_shift_range=0.2,\n",
    "    rescale = 1./255,\n",
    "    # featurewise_center=True,\n",
    "    # featurewise_std_normalization=True,\n",
    "    rotation_range=20, \n",
    "    width_shift_range=0.1, \n",
    "    height_shift_range=0.1, \n",
    "    shear_range=0.2, \n",
    "    zoom_range=0.2, horizontal_flip=True, \n",
    "    fill_mode=\"nearest\"\n",
    "    \n",
    ")\n",
    "\n",
    "val_gen = ImageDataGenerator(rescale = 1./255)\n",
    "test_gen = ImageDataGenerator(rescale = 1./255)"
   ]
  },
  {
   "cell_type": "code",
   "execution_count": 6,
   "metadata": {
    "id": "Trty2sZ4AeuY"
   },
   "outputs": [],
   "source": [
    "batch_size = 64"
   ]
  },
  {
   "cell_type": "code",
   "execution_count": 7,
   "metadata": {
    "colab": {
     "base_uri": "https://localhost:8080/"
    },
    "id": "hg72tntPAgvx",
    "outputId": "2f6cda4f-1cac-4ea8-974d-0966761334e0"
   },
   "outputs": [
    {
     "name": "stdout",
     "output_type": "stream",
     "text": [
      "Found 1600 images belonging to 4 classes.\n",
      "Found 380 images belonging to 4 classes.\n",
      "Found 20 images belonging to 4 classes.\n"
     ]
    }
   ],
   "source": [
    "train_generator = train_gen.flow_from_directory(\n",
    "    Train,\n",
    "    target_size=(150, 150),\n",
    "    class_mode='categorical',\n",
    "    color_mode=\"rgb\",\n",
    "    batch_size=batch_size\n",
    ")\n",
    "\n",
    "validation_generator = val_gen.flow_from_directory(\n",
    "    Val,\n",
    "    target_size=(150,150),\n",
    "    class_mode='categorical',\n",
    "    color_mode=\"rgb\",\n",
    "    shuffle=False,\n",
    "    batch_size=batch_size\n",
    ")\n",
    "test_generator = test_gen.flow_from_directory(\n",
    "    Test,\n",
    "    target_size=(150,150),\n",
    "    class_mode='categorical',\n",
    "    color_mode=\"rgb\",\n",
    "    shuffle=False,\n",
    "    batch_size=batch_size\n",
    ")"
   ]
  },
  {
   "cell_type": "code",
   "execution_count": 8,
   "metadata": {
    "id": "q1B35yIaClVk"
   },
   "outputs": [],
   "source": [
    "from keras.applications.vgg16 import VGG16\n",
    "from keras.models import Model\n",
    "from keras import backend as K\n",
    "from keras.layers import Dense,Flatten"
   ]
  },
  {
   "cell_type": "code",
   "execution_count": 9,
   "metadata": {
    "colab": {
     "base_uri": "https://localhost:8080/"
    },
    "id": "yD9U3UBJAibZ",
    "outputId": "f0cdb1d9-7afa-4743-fa52-a3c043bd6564"
   },
   "outputs": [],
   "source": [
    "vgg16_model = VGG16(input_shape =(150,150,3) , include_top=False)"
   ]
  },
  {
   "cell_type": "code",
   "execution_count": 10,
   "metadata": {
    "colab": {
     "base_uri": "https://localhost:8080/"
    },
    "id": "yu2A5zqBAnB7",
    "outputId": "0b555591-2942-4396-d1a3-b75344c1aab2"
   },
   "outputs": [
    {
     "name": "stdout",
     "output_type": "stream",
     "text": [
      "Model: \"vgg16\"\n",
      "_________________________________________________________________\n",
      " Layer (type)                Output Shape              Param #   \n",
      "=================================================================\n",
      " input_1 (InputLayer)        [(None, 150, 150, 3)]     0         \n",
      "                                                                 \n",
      " block1_conv1 (Conv2D)       (None, 150, 150, 64)      1792      \n",
      "                                                                 \n",
      " block1_conv2 (Conv2D)       (None, 150, 150, 64)      36928     \n",
      "                                                                 \n",
      " block1_pool (MaxPooling2D)  (None, 75, 75, 64)        0         \n",
      "                                                                 \n",
      " block2_conv1 (Conv2D)       (None, 75, 75, 128)       73856     \n",
      "                                                                 \n",
      " block2_conv2 (Conv2D)       (None, 75, 75, 128)       147584    \n",
      "                                                                 \n",
      " block2_pool (MaxPooling2D)  (None, 37, 37, 128)       0         \n",
      "                                                                 \n",
      " block3_conv1 (Conv2D)       (None, 37, 37, 256)       295168    \n",
      "                                                                 \n",
      " block3_conv2 (Conv2D)       (None, 37, 37, 256)       590080    \n",
      "                                                                 \n",
      " block3_conv3 (Conv2D)       (None, 37, 37, 256)       590080    \n",
      "                                                                 \n",
      " block3_pool (MaxPooling2D)  (None, 18, 18, 256)       0         \n",
      "                                                                 \n",
      " block4_conv1 (Conv2D)       (None, 18, 18, 512)       1180160   \n",
      "                                                                 \n",
      " block4_conv2 (Conv2D)       (None, 18, 18, 512)       2359808   \n",
      "                                                                 \n",
      " block4_conv3 (Conv2D)       (None, 18, 18, 512)       2359808   \n",
      "                                                                 \n",
      " block4_pool (MaxPooling2D)  (None, 9, 9, 512)         0         \n",
      "                                                                 \n",
      " block5_conv1 (Conv2D)       (None, 9, 9, 512)         2359808   \n",
      "                                                                 \n",
      " block5_conv2 (Conv2D)       (None, 9, 9, 512)         2359808   \n",
      "                                                                 \n",
      " block5_conv3 (Conv2D)       (None, 9, 9, 512)         2359808   \n",
      "                                                                 \n",
      " block5_pool (MaxPooling2D)  (None, 4, 4, 512)         0         \n",
      "                                                                 \n",
      "=================================================================\n",
      "Total params: 14,714,688\n",
      "Trainable params: 14,714,688\n",
      "Non-trainable params: 0\n",
      "_________________________________________________________________\n"
     ]
    }
   ],
   "source": [
    "vgg16_model.summary()"
   ]
  },
  {
   "cell_type": "code",
   "execution_count": 11,
   "metadata": {
    "id": "NTnn5qMXCutr"
   },
   "outputs": [],
   "source": [
    "import tensorflow as tf"
   ]
  },
  {
   "cell_type": "code",
   "execution_count": 12,
   "metadata": {
    "id": "fEeDT0d6Au5I"
   },
   "outputs": [],
   "source": [
    "model_mod = vgg16_model.layers[-1].output\n",
    "flatten = tf.keras.layers.Flatten()(model_mod)\n",
    "denser = tf.keras.layers.Dense(128, activation = 'relu')(flatten)\n",
    "denser = tf.keras.layers.Dense(256, activation = 'relu')(flatten)\n",
    "dropout = tf.keras.layers.Dropout(0.5)(denser)\n",
    "prediction = tf.keras.layers.Dense(4, activation = 'softmax')(dropout)"
   ]
  },
  {
   "cell_type": "code",
   "execution_count": 13,
   "metadata": {
    "id": "ehBJYnrDbLVF"
   },
   "outputs": [],
   "source": [
    "model2= tf.keras.Model(inputs=vgg16_model.input, outputs=prediction)"
   ]
  },
  {
   "cell_type": "code",
   "execution_count": 14,
   "metadata": {
    "id": "HplCb5s1bO98"
   },
   "outputs": [],
   "source": [
    "for layer in vgg16_model.layers:\n",
    "  layer.trainable = False"
   ]
  },
  {
   "cell_type": "code",
   "execution_count": 15,
   "metadata": {
    "colab": {
     "base_uri": "https://localhost:8080/"
    },
    "id": "nfsoTVAqdOfa",
    "outputId": "c2a0d762-efb1-4a5e-bb0f-2d8f56836e7d"
   },
   "outputs": [
    {
     "name": "stdout",
     "output_type": "stream",
     "text": [
      "Model: \"model\"\n",
      "_________________________________________________________________\n",
      " Layer (type)                Output Shape              Param #   \n",
      "=================================================================\n",
      " input_1 (InputLayer)        [(None, 150, 150, 3)]     0         \n",
      "                                                                 \n",
      " block1_conv1 (Conv2D)       (None, 150, 150, 64)      1792      \n",
      "                                                                 \n",
      " block1_conv2 (Conv2D)       (None, 150, 150, 64)      36928     \n",
      "                                                                 \n",
      " block1_pool (MaxPooling2D)  (None, 75, 75, 64)        0         \n",
      "                                                                 \n",
      " block2_conv1 (Conv2D)       (None, 75, 75, 128)       73856     \n",
      "                                                                 \n",
      " block2_conv2 (Conv2D)       (None, 75, 75, 128)       147584    \n",
      "                                                                 \n",
      " block2_pool (MaxPooling2D)  (None, 37, 37, 128)       0         \n",
      "                                                                 \n",
      " block3_conv1 (Conv2D)       (None, 37, 37, 256)       295168    \n",
      "                                                                 \n",
      " block3_conv2 (Conv2D)       (None, 37, 37, 256)       590080    \n",
      "                                                                 \n",
      " block3_conv3 (Conv2D)       (None, 37, 37, 256)       590080    \n",
      "                                                                 \n",
      " block3_pool (MaxPooling2D)  (None, 18, 18, 256)       0         \n",
      "                                                                 \n",
      " block4_conv1 (Conv2D)       (None, 18, 18, 512)       1180160   \n",
      "                                                                 \n",
      " block4_conv2 (Conv2D)       (None, 18, 18, 512)       2359808   \n",
      "                                                                 \n",
      " block4_conv3 (Conv2D)       (None, 18, 18, 512)       2359808   \n",
      "                                                                 \n",
      " block4_pool (MaxPooling2D)  (None, 9, 9, 512)         0         \n",
      "                                                                 \n",
      " block5_conv1 (Conv2D)       (None, 9, 9, 512)         2359808   \n",
      "                                                                 \n",
      " block5_conv2 (Conv2D)       (None, 9, 9, 512)         2359808   \n",
      "                                                                 \n",
      " block5_conv3 (Conv2D)       (None, 9, 9, 512)         2359808   \n",
      "                                                                 \n",
      " block5_pool (MaxPooling2D)  (None, 4, 4, 512)         0         \n",
      "                                                                 \n",
      " flatten (Flatten)           (None, 8192)              0         \n",
      "                                                                 \n",
      " dense_1 (Dense)             (None, 256)               2097408   \n",
      "                                                                 \n",
      " dropout (Dropout)           (None, 256)               0         \n",
      "                                                                 \n",
      " dense_2 (Dense)             (None, 4)                 1028      \n",
      "                                                                 \n",
      "=================================================================\n",
      "Total params: 16,813,124\n",
      "Trainable params: 2,098,436\n",
      "Non-trainable params: 14,714,688\n",
      "_________________________________________________________________\n"
     ]
    }
   ],
   "source": [
    "model2.summary()"
   ]
  },
  {
   "cell_type": "code",
   "execution_count": 16,
   "metadata": {
    "id": "Y4i58FrCa_zX"
   },
   "outputs": [],
   "source": [
    "from tensorflow.keras.callbacks import LearningRateScheduler\n",
    "\n",
    "lr_sched = LearningRateScheduler(lambda epoch: 1e-4 * (0.75 ** np.floor(epoch / 2)))"
   ]
  },
  {
   "cell_type": "code",
   "execution_count": 17,
   "metadata": {
    "id": "iJAcu7I9BHfo"
   },
   "outputs": [],
   "source": [
    "model2.compile(Adam(learning_rate=0.0001), loss='categorical_crossentropy', \n",
    "              metrics=['accuracy'])"
   ]
  },
  {
   "cell_type": "code",
   "execution_count": 18,
   "metadata": {
    "colab": {
     "base_uri": "https://localhost:8080/"
    },
    "id": "TlcYnaKVBJqA",
    "outputId": "faa72acf-3a4d-48a3-c770-75109063b807"
   },
   "outputs": [
    {
     "name": "stdout",
     "output_type": "stream",
     "text": [
      "Epoch 1/150\n",
      "25/25 [==============================] - 76s 2s/step - loss: 1.0667 - accuracy: 0.5394 - val_loss: 0.5387 - val_accuracy: 0.8237 - lr: 1.0000e-04\n",
      "Epoch 2/150\n",
      "25/25 [==============================] - 22s 863ms/step - loss: 0.5848 - accuracy: 0.7694 - val_loss: 0.3941 - val_accuracy: 0.8605 - lr: 1.0000e-04\n",
      "Epoch 3/150\n",
      "25/25 [==============================] - 24s 973ms/step - loss: 0.4586 - accuracy: 0.8281 - val_loss: 0.3489 - val_accuracy: 0.8816 - lr: 7.5000e-05\n",
      "Epoch 4/150\n",
      "25/25 [==============================] - 23s 910ms/step - loss: 0.4341 - accuracy: 0.8319 - val_loss: 0.3217 - val_accuracy: 0.8868 - lr: 7.5000e-05\n",
      "Epoch 5/150\n",
      "25/25 [==============================] - 23s 894ms/step - loss: 0.4190 - accuracy: 0.8331 - val_loss: 0.3062 - val_accuracy: 0.8868 - lr: 5.6250e-05\n",
      "Epoch 6/150\n",
      "25/25 [==============================] - 23s 891ms/step - loss: 0.3736 - accuracy: 0.8556 - val_loss: 0.2882 - val_accuracy: 0.9053 - lr: 5.6250e-05\n",
      "Epoch 7/150\n",
      "25/25 [==============================] - 27s 1s/step - loss: 0.3601 - accuracy: 0.8650 - val_loss: 0.2814 - val_accuracy: 0.9026 - lr: 4.2188e-05\n",
      "Epoch 8/150\n",
      "25/25 [==============================] - 24s 941ms/step - loss: 0.3426 - accuracy: 0.8694 - val_loss: 0.2767 - val_accuracy: 0.9053 - lr: 4.2188e-05\n",
      "Epoch 9/150\n",
      "25/25 [==============================] - 23s 925ms/step - loss: 0.3436 - accuracy: 0.8750 - val_loss: 0.2799 - val_accuracy: 0.9000 - lr: 3.1641e-05\n",
      "Epoch 10/150\n",
      "25/25 [==============================] - 23s 922ms/step - loss: 0.3454 - accuracy: 0.8625 - val_loss: 0.2634 - val_accuracy: 0.8947 - lr: 3.1641e-05\n",
      "Epoch 11/150\n",
      "25/25 [==============================] - 28s 1s/step - loss: 0.3246 - accuracy: 0.8838 - val_loss: 0.2672 - val_accuracy: 0.8947 - lr: 2.3730e-05\n",
      "Epoch 12/150\n",
      "25/25 [==============================] - 24s 960ms/step - loss: 0.3152 - accuracy: 0.8850 - val_loss: 0.2618 - val_accuracy: 0.8974 - lr: 2.3730e-05\n",
      "Epoch 13/150\n",
      "25/25 [==============================] - 24s 931ms/step - loss: 0.3171 - accuracy: 0.8856 - val_loss: 0.2532 - val_accuracy: 0.9105 - lr: 1.7798e-05\n",
      "Epoch 14/150\n",
      "25/25 [==============================] - 24s 948ms/step - loss: 0.3203 - accuracy: 0.8763 - val_loss: 0.2550 - val_accuracy: 0.9079 - lr: 1.7798e-05\n",
      "Epoch 15/150\n",
      "25/25 [==============================] - 24s 938ms/step - loss: 0.3159 - accuracy: 0.8825 - val_loss: 0.2538 - val_accuracy: 0.9000 - lr: 1.3348e-05\n",
      "Epoch 16/150\n",
      "25/25 [==============================] - 24s 937ms/step - loss: 0.2935 - accuracy: 0.9031 - val_loss: 0.2503 - val_accuracy: 0.9105 - lr: 1.3348e-05\n",
      "Epoch 17/150\n",
      "25/25 [==============================] - 23s 932ms/step - loss: 0.2964 - accuracy: 0.8919 - val_loss: 0.2467 - val_accuracy: 0.9105 - lr: 1.0011e-05\n",
      "Epoch 18/150\n",
      "25/25 [==============================] - 24s 939ms/step - loss: 0.2826 - accuracy: 0.9038 - val_loss: 0.2490 - val_accuracy: 0.9053 - lr: 1.0011e-05\n",
      "Epoch 19/150\n",
      "25/25 [==============================] - 24s 950ms/step - loss: 0.2914 - accuracy: 0.8869 - val_loss: 0.2477 - val_accuracy: 0.9105 - lr: 7.5085e-06\n",
      "Epoch 20/150\n",
      "25/25 [==============================] - 24s 971ms/step - loss: 0.2932 - accuracy: 0.8906 - val_loss: 0.2477 - val_accuracy: 0.9053 - lr: 7.5085e-06\n",
      "Epoch 21/150\n",
      "25/25 [==============================] - 24s 959ms/step - loss: 0.2858 - accuracy: 0.8925 - val_loss: 0.2471 - val_accuracy: 0.9105 - lr: 5.6314e-06\n",
      "Epoch 22/150\n",
      "25/25 [==============================] - 24s 962ms/step - loss: 0.2948 - accuracy: 0.8875 - val_loss: 0.2490 - val_accuracy: 0.9000 - lr: 5.6314e-06\n",
      "Epoch 23/150\n",
      "25/25 [==============================] - 24s 965ms/step - loss: 0.2983 - accuracy: 0.8850 - val_loss: 0.2473 - val_accuracy: 0.9079 - lr: 4.2235e-06\n",
      "Epoch 24/150\n",
      "25/25 [==============================] - 25s 982ms/step - loss: 0.2988 - accuracy: 0.8838 - val_loss: 0.2466 - val_accuracy: 0.9079 - lr: 4.2235e-06\n",
      "Epoch 25/150\n",
      "25/25 [==============================] - 25s 986ms/step - loss: 0.2979 - accuracy: 0.8900 - val_loss: 0.2475 - val_accuracy: 0.9079 - lr: 3.1676e-06\n",
      "Epoch 26/150\n",
      "25/25 [==============================] - 25s 984ms/step - loss: 0.2827 - accuracy: 0.8988 - val_loss: 0.2465 - val_accuracy: 0.9053 - lr: 3.1676e-06\n",
      "Epoch 27/150\n",
      "25/25 [==============================] - 25s 997ms/step - loss: 0.2842 - accuracy: 0.8906 - val_loss: 0.2480 - val_accuracy: 0.9079 - lr: 2.3757e-06\n",
      "Epoch 28/150\n",
      "25/25 [==============================] - 25s 1s/step - loss: 0.3175 - accuracy: 0.8881 - val_loss: 0.2484 - val_accuracy: 0.9079 - lr: 2.3757e-06\n",
      "Epoch 29/150\n",
      "25/25 [==============================] - 25s 999ms/step - loss: 0.2870 - accuracy: 0.8919 - val_loss: 0.2476 - val_accuracy: 0.9026 - lr: 1.7818e-06\n",
      "Epoch 30/150\n",
      "25/25 [==============================] - 26s 1s/step - loss: 0.3079 - accuracy: 0.8844 - val_loss: 0.2467 - val_accuracy: 0.9053 - lr: 1.7818e-06\n",
      "Epoch 31/150\n",
      "25/25 [==============================] - 26s 1s/step - loss: 0.2916 - accuracy: 0.8844 - val_loss: 0.2456 - val_accuracy: 0.9079 - lr: 1.3363e-06\n",
      "Epoch 32/150\n",
      "25/25 [==============================] - 29s 1s/step - loss: 0.3000 - accuracy: 0.8806 - val_loss: 0.2451 - val_accuracy: 0.9053 - lr: 1.3363e-06\n",
      "Epoch 33/150\n",
      "25/25 [==============================] - 27s 1s/step - loss: 0.2934 - accuracy: 0.8875 - val_loss: 0.2450 - val_accuracy: 0.9053 - lr: 1.0023e-06\n",
      "Epoch 34/150\n",
      "25/25 [==============================] - 26s 1s/step - loss: 0.3018 - accuracy: 0.8863 - val_loss: 0.2453 - val_accuracy: 0.9079 - lr: 1.0023e-06\n",
      "Epoch 35/150\n",
      "25/25 [==============================] - 27s 1s/step - loss: 0.2877 - accuracy: 0.8944 - val_loss: 0.2454 - val_accuracy: 0.9079 - lr: 7.5169e-07\n",
      "Epoch 36/150\n",
      "25/25 [==============================] - 27s 1s/step - loss: 0.2978 - accuracy: 0.8956 - val_loss: 0.2448 - val_accuracy: 0.9079 - lr: 7.5169e-07\n",
      "Epoch 37/150\n",
      "25/25 [==============================] - 27s 1s/step - loss: 0.2793 - accuracy: 0.8994 - val_loss: 0.2446 - val_accuracy: 0.9079 - lr: 5.6377e-07\n",
      "Epoch 38/150\n",
      "25/25 [==============================] - 27s 1s/step - loss: 0.2858 - accuracy: 0.8988 - val_loss: 0.2444 - val_accuracy: 0.9079 - lr: 5.6377e-07\n",
      "Epoch 39/150\n",
      "25/25 [==============================] - 27s 1s/step - loss: 0.2810 - accuracy: 0.9000 - val_loss: 0.2446 - val_accuracy: 0.9053 - lr: 4.2283e-07\n",
      "Epoch 40/150\n",
      "25/25 [==============================] - 28s 1s/step - loss: 0.2871 - accuracy: 0.8944 - val_loss: 0.2446 - val_accuracy: 0.9079 - lr: 4.2283e-07\n",
      "Epoch 41/150\n",
      "25/25 [==============================] - 29s 1s/step - loss: 0.2722 - accuracy: 0.9000 - val_loss: 0.2446 - val_accuracy: 0.9079 - lr: 3.1712e-07\n",
      "Epoch 42/150\n",
      "25/25 [==============================] - 28s 1s/step - loss: 0.2872 - accuracy: 0.8944 - val_loss: 0.2447 - val_accuracy: 0.9079 - lr: 3.1712e-07\n",
      "Epoch 43/150\n",
      "25/25 [==============================] - 29s 1s/step - loss: 0.2895 - accuracy: 0.8825 - val_loss: 0.2448 - val_accuracy: 0.9079 - lr: 2.3784e-07\n",
      "Epoch 44/150\n",
      "25/25 [==============================] - 29s 1s/step - loss: 0.2879 - accuracy: 0.8894 - val_loss: 0.2447 - val_accuracy: 0.9079 - lr: 2.3784e-07\n",
      "Epoch 45/150\n",
      "25/25 [==============================] - 27s 1s/step - loss: 0.2826 - accuracy: 0.8900 - val_loss: 0.2446 - val_accuracy: 0.9053 - lr: 1.7838e-07\n",
      "Epoch 46/150\n",
      "25/25 [==============================] - 27s 1s/step - loss: 0.2995 - accuracy: 0.8856 - val_loss: 0.2446 - val_accuracy: 0.9053 - lr: 1.7838e-07\n",
      "Epoch 47/150\n",
      "25/25 [==============================] - 27s 1s/step - loss: 0.2905 - accuracy: 0.8919 - val_loss: 0.2446 - val_accuracy: 0.9053 - lr: 1.3379e-07\n",
      "Epoch 48/150\n",
      "25/25 [==============================] - 27s 1s/step - loss: 0.2818 - accuracy: 0.9044 - val_loss: 0.2446 - val_accuracy: 0.9053 - lr: 1.3379e-07\n",
      "Epoch 49/150\n",
      "25/25 [==============================] - 27s 1s/step - loss: 0.2980 - accuracy: 0.8850 - val_loss: 0.2446 - val_accuracy: 0.9053 - lr: 1.0034e-07\n",
      "Epoch 50/150\n",
      "25/25 [==============================] - 27s 1s/step - loss: 0.2895 - accuracy: 0.8931 - val_loss: 0.2446 - val_accuracy: 0.9053 - lr: 1.0034e-07\n",
      "Epoch 51/150\n",
      "25/25 [==============================] - 27s 1s/step - loss: 0.2940 - accuracy: 0.8919 - val_loss: 0.2446 - val_accuracy: 0.9053 - lr: 7.5254e-08\n",
      "Epoch 52/150\n"
     ]
    },
    {
     "name": "stdout",
     "output_type": "stream",
     "text": [
      "25/25 [==============================] - 27s 1s/step - loss: 0.2929 - accuracy: 0.8869 - val_loss: 0.2445 - val_accuracy: 0.9053 - lr: 7.5254e-08\n",
      "Epoch 53/150\n",
      "25/25 [==============================] - 27s 1s/step - loss: 0.2876 - accuracy: 0.8838 - val_loss: 0.2445 - val_accuracy: 0.9053 - lr: 5.6441e-08\n",
      "Epoch 54/150\n",
      "25/25 [==============================] - 27s 1s/step - loss: 0.2868 - accuracy: 0.8944 - val_loss: 0.2445 - val_accuracy: 0.9053 - lr: 5.6441e-08\n",
      "Epoch 55/150\n",
      "25/25 [==============================] - 27s 1s/step - loss: 0.2862 - accuracy: 0.8906 - val_loss: 0.2445 - val_accuracy: 0.9053 - lr: 4.2331e-08\n",
      "Epoch 56/150\n",
      "25/25 [==============================] - 26s 1s/step - loss: 0.2968 - accuracy: 0.8844 - val_loss: 0.2445 - val_accuracy: 0.9053 - lr: 4.2331e-08\n",
      "Epoch 57/150\n",
      "25/25 [==============================] - 28s 1s/step - loss: 0.2761 - accuracy: 0.9019 - val_loss: 0.2445 - val_accuracy: 0.9053 - lr: 3.1748e-08\n",
      "Epoch 58/150\n",
      "25/25 [==============================] - 28s 1s/step - loss: 0.2776 - accuracy: 0.9000 - val_loss: 0.2444 - val_accuracy: 0.9053 - lr: 3.1748e-08\n",
      "Epoch 59/150\n",
      "25/25 [==============================] - 28s 1s/step - loss: 0.2822 - accuracy: 0.8988 - val_loss: 0.2444 - val_accuracy: 0.9053 - lr: 2.3811e-08\n",
      "Epoch 60/150\n",
      "25/25 [==============================] - 28s 1s/step - loss: 0.2824 - accuracy: 0.8975 - val_loss: 0.2444 - val_accuracy: 0.9053 - lr: 2.3811e-08\n",
      "Epoch 61/150\n",
      "25/25 [==============================] - 28s 1s/step - loss: 0.2844 - accuracy: 0.8969 - val_loss: 0.2444 - val_accuracy: 0.9053 - lr: 1.7858e-08\n",
      "Epoch 62/150\n",
      "25/25 [==============================] - 27s 1s/step - loss: 0.2864 - accuracy: 0.8938 - val_loss: 0.2444 - val_accuracy: 0.9053 - lr: 1.7858e-08\n",
      "Epoch 63/150\n",
      "25/25 [==============================] - 27s 1s/step - loss: 0.2939 - accuracy: 0.8894 - val_loss: 0.2444 - val_accuracy: 0.9053 - lr: 1.3394e-08\n",
      "Epoch 64/150\n",
      "25/25 [==============================] - 26s 1s/step - loss: 0.2884 - accuracy: 0.8906 - val_loss: 0.2444 - val_accuracy: 0.9053 - lr: 1.3394e-08\n",
      "Epoch 65/150\n",
      "25/25 [==============================] - 27s 1s/step - loss: 0.2917 - accuracy: 0.8956 - val_loss: 0.2444 - val_accuracy: 0.9053 - lr: 1.0045e-08\n",
      "Epoch 66/150\n",
      "25/25 [==============================] - 27s 1s/step - loss: 0.2820 - accuracy: 0.8944 - val_loss: 0.2444 - val_accuracy: 0.9053 - lr: 1.0045e-08\n",
      "Epoch 67/150\n",
      "25/25 [==============================] - 27s 1s/step - loss: 0.2972 - accuracy: 0.8919 - val_loss: 0.2444 - val_accuracy: 0.9053 - lr: 7.5339e-09\n",
      "Epoch 68/150\n",
      "25/25 [==============================] - 27s 1s/step - loss: 0.2828 - accuracy: 0.8938 - val_loss: 0.2444 - val_accuracy: 0.9053 - lr: 7.5339e-09\n",
      "Epoch 69/150\n",
      "25/25 [==============================] - 27s 1s/step - loss: 0.2954 - accuracy: 0.8894 - val_loss: 0.2444 - val_accuracy: 0.9053 - lr: 5.6504e-09\n",
      "Epoch 70/150\n",
      "25/25 [==============================] - 27s 1s/step - loss: 0.2954 - accuracy: 0.8894 - val_loss: 0.2444 - val_accuracy: 0.9053 - lr: 5.6504e-09\n",
      "Epoch 71/150\n",
      "25/25 [==============================] - 27s 1s/step - loss: 0.2867 - accuracy: 0.8938 - val_loss: 0.2444 - val_accuracy: 0.9053 - lr: 4.2378e-09\n",
      "Epoch 72/150\n",
      "25/25 [==============================] - 27s 1s/step - loss: 0.2681 - accuracy: 0.9081 - val_loss: 0.2444 - val_accuracy: 0.9053 - lr: 4.2378e-09\n",
      "Epoch 73/150\n",
      "25/25 [==============================] - 27s 1s/step - loss: 0.2735 - accuracy: 0.9019 - val_loss: 0.2444 - val_accuracy: 0.9053 - lr: 3.1784e-09\n",
      "Epoch 74/150\n",
      "25/25 [==============================] - 27s 1s/step - loss: 0.2897 - accuracy: 0.8975 - val_loss: 0.2444 - val_accuracy: 0.9053 - lr: 3.1784e-09\n",
      "Epoch 75/150\n",
      "25/25 [==============================] - 27s 1s/step - loss: 0.2969 - accuracy: 0.8956 - val_loss: 0.2444 - val_accuracy: 0.9053 - lr: 2.3838e-09\n",
      "Epoch 76/150\n",
      "25/25 [==============================] - 28s 1s/step - loss: 0.2999 - accuracy: 0.8831 - val_loss: 0.2444 - val_accuracy: 0.9053 - lr: 2.3838e-09\n",
      "Epoch 77/150\n",
      "25/25 [==============================] - 28s 1s/step - loss: 0.3012 - accuracy: 0.8863 - val_loss: 0.2444 - val_accuracy: 0.9053 - lr: 1.7878e-09\n",
      "Epoch 78/150\n",
      "25/25 [==============================] - 27s 1s/step - loss: 0.2868 - accuracy: 0.8944 - val_loss: 0.2444 - val_accuracy: 0.9053 - lr: 1.7878e-09\n",
      "Epoch 79/150\n",
      "25/25 [==============================] - 27s 1s/step - loss: 0.2935 - accuracy: 0.8938 - val_loss: 0.2444 - val_accuracy: 0.9053 - lr: 1.3409e-09\n",
      "Epoch 80/150\n",
      "25/25 [==============================] - 27s 1s/step - loss: 0.2884 - accuracy: 0.8894 - val_loss: 0.2444 - val_accuracy: 0.9053 - lr: 1.3409e-09\n",
      "Epoch 81/150\n",
      "25/25 [==============================] - 27s 1s/step - loss: 0.2903 - accuracy: 0.8894 - val_loss: 0.2444 - val_accuracy: 0.9053 - lr: 1.0057e-09\n",
      "Epoch 82/150\n",
      "25/25 [==============================] - 27s 1s/step - loss: 0.2869 - accuracy: 0.8825 - val_loss: 0.2444 - val_accuracy: 0.9053 - lr: 1.0057e-09\n",
      "Epoch 83/150\n",
      "25/25 [==============================] - 30s 1s/step - loss: 0.2769 - accuracy: 0.9019 - val_loss: 0.2444 - val_accuracy: 0.9053 - lr: 7.5424e-10\n",
      "Epoch 84/150\n",
      "25/25 [==============================] - 29s 1s/step - loss: 0.2926 - accuracy: 0.8863 - val_loss: 0.2444 - val_accuracy: 0.9053 - lr: 7.5424e-10\n",
      "Epoch 85/150\n",
      "25/25 [==============================] - 30s 1s/step - loss: 0.2877 - accuracy: 0.8938 - val_loss: 0.2444 - val_accuracy: 0.9053 - lr: 5.6568e-10\n",
      "Epoch 86/150\n",
      "25/25 [==============================] - 31s 1s/step - loss: 0.2834 - accuracy: 0.8994 - val_loss: 0.2444 - val_accuracy: 0.9053 - lr: 5.6568e-10\n",
      "Epoch 87/150\n",
      "25/25 [==============================] - 28s 1s/step - loss: 0.2848 - accuracy: 0.9000 - val_loss: 0.2444 - val_accuracy: 0.9053 - lr: 4.2426e-10\n",
      "Epoch 88/150\n",
      "25/25 [==============================] - 29s 1s/step - loss: 0.2733 - accuracy: 0.9000 - val_loss: 0.2444 - val_accuracy: 0.9053 - lr: 4.2426e-10\n",
      "Epoch 89/150\n",
      "25/25 [==============================] - 29s 1s/step - loss: 0.2949 - accuracy: 0.8831 - val_loss: 0.2444 - val_accuracy: 0.9053 - lr: 3.1820e-10\n",
      "Epoch 90/150\n",
      "25/25 [==============================] - 29s 1s/step - loss: 0.2924 - accuracy: 0.8875 - val_loss: 0.2444 - val_accuracy: 0.9053 - lr: 3.1820e-10\n",
      "Epoch 91/150\n",
      "25/25 [==============================] - 28s 1s/step - loss: 0.2912 - accuracy: 0.8894 - val_loss: 0.2444 - val_accuracy: 0.9053 - lr: 2.3865e-10\n",
      "Epoch 92/150\n",
      "25/25 [==============================] - 29s 1s/step - loss: 0.2713 - accuracy: 0.9000 - val_loss: 0.2444 - val_accuracy: 0.9053 - lr: 2.3865e-10\n",
      "Epoch 93/150\n",
      "25/25 [==============================] - 30s 1s/step - loss: 0.2720 - accuracy: 0.8919 - val_loss: 0.2444 - val_accuracy: 0.9053 - lr: 1.7899e-10\n",
      "Epoch 94/150\n",
      "25/25 [==============================] - 30s 1s/step - loss: 0.2977 - accuracy: 0.8863 - val_loss: 0.2444 - val_accuracy: 0.9053 - lr: 1.7899e-10\n",
      "Epoch 95/150\n",
      "25/25 [==============================] - 30s 1s/step - loss: 0.2842 - accuracy: 0.9019 - val_loss: 0.2444 - val_accuracy: 0.9053 - lr: 1.3424e-10\n",
      "Epoch 96/150\n",
      "25/25 [==============================] - 29s 1s/step - loss: 0.2961 - accuracy: 0.8875 - val_loss: 0.2444 - val_accuracy: 0.9053 - lr: 1.3424e-10\n",
      "Epoch 97/150\n",
      "25/25 [==============================] - 29s 1s/step - loss: 0.2955 - accuracy: 0.8881 - val_loss: 0.2444 - val_accuracy: 0.9053 - lr: 1.0068e-10\n",
      "Epoch 98/150\n",
      "25/25 [==============================] - 29s 1s/step - loss: 0.2846 - accuracy: 0.8875 - val_loss: 0.2444 - val_accuracy: 0.9053 - lr: 1.0068e-10\n",
      "Epoch 99/150\n",
      "25/25 [==============================] - 29s 1s/step - loss: 0.2866 - accuracy: 0.8913 - val_loss: 0.2444 - val_accuracy: 0.9053 - lr: 7.5510e-11\n",
      "Epoch 100/150\n",
      "25/25 [==============================] - 29s 1s/step - loss: 0.2802 - accuracy: 0.8913 - val_loss: 0.2444 - val_accuracy: 0.9053 - lr: 7.5510e-11\n",
      "Epoch 101/150\n",
      "25/25 [==============================] - 29s 1s/step - loss: 0.2821 - accuracy: 0.8950 - val_loss: 0.2444 - val_accuracy: 0.9053 - lr: 5.6632e-11\n",
      "Epoch 102/150\n",
      "25/25 [==============================] - 31s 1s/step - loss: 0.2883 - accuracy: 0.8888 - val_loss: 0.2444 - val_accuracy: 0.9053 - lr: 5.6632e-11\n",
      "Epoch 103/150\n"
     ]
    },
    {
     "name": "stdout",
     "output_type": "stream",
     "text": [
      "25/25 [==============================] - 29s 1s/step - loss: 0.3005 - accuracy: 0.8894 - val_loss: 0.2444 - val_accuracy: 0.9053 - lr: 4.2474e-11\n",
      "Epoch 104/150\n",
      "25/25 [==============================] - 29s 1s/step - loss: 0.2919 - accuracy: 0.8931 - val_loss: 0.2444 - val_accuracy: 0.9053 - lr: 4.2474e-11\n",
      "Epoch 105/150\n",
      "25/25 [==============================] - 29s 1s/step - loss: 0.2846 - accuracy: 0.8900 - val_loss: 0.2444 - val_accuracy: 0.9053 - lr: 3.1856e-11\n",
      "Epoch 106/150\n",
      "25/25 [==============================] - 33s 1s/step - loss: 0.2930 - accuracy: 0.8931 - val_loss: 0.2444 - val_accuracy: 0.9053 - lr: 3.1856e-11\n",
      "Epoch 107/150\n",
      "25/25 [==============================] - 30s 1s/step - loss: 0.2882 - accuracy: 0.8888 - val_loss: 0.2444 - val_accuracy: 0.9053 - lr: 2.3892e-11\n",
      "Epoch 108/150\n",
      "25/25 [==============================] - 30s 1s/step - loss: 0.2899 - accuracy: 0.8881 - val_loss: 0.2444 - val_accuracy: 0.9053 - lr: 2.3892e-11\n",
      "Epoch 109/150\n",
      "25/25 [==============================] - 33s 1s/step - loss: 0.2840 - accuracy: 0.8963 - val_loss: 0.2444 - val_accuracy: 0.9053 - lr: 1.7919e-11\n",
      "Epoch 110/150\n",
      "25/25 [==============================] - 30s 1s/step - loss: 0.2965 - accuracy: 0.8844 - val_loss: 0.2444 - val_accuracy: 0.9053 - lr: 1.7919e-11\n",
      "Epoch 111/150\n",
      "25/25 [==============================] - 30s 1s/step - loss: 0.2727 - accuracy: 0.8963 - val_loss: 0.2444 - val_accuracy: 0.9053 - lr: 1.3439e-11\n",
      "Epoch 112/150\n",
      "25/25 [==============================] - 30s 1s/step - loss: 0.2817 - accuracy: 0.8950 - val_loss: 0.2444 - val_accuracy: 0.9053 - lr: 1.3439e-11\n",
      "Epoch 113/150\n",
      "25/25 [==============================] - 29s 1s/step - loss: 0.2941 - accuracy: 0.8906 - val_loss: 0.2444 - val_accuracy: 0.9053 - lr: 1.0079e-11\n",
      "Epoch 114/150\n",
      "25/25 [==============================] - 29s 1s/step - loss: 0.2889 - accuracy: 0.8975 - val_loss: 0.2444 - val_accuracy: 0.9053 - lr: 1.0079e-11\n",
      "Epoch 115/150\n",
      "25/25 [==============================] - 29s 1s/step - loss: 0.2814 - accuracy: 0.8856 - val_loss: 0.2444 - val_accuracy: 0.9053 - lr: 7.5595e-12\n",
      "Epoch 116/150\n",
      "25/25 [==============================] - 29s 1s/step - loss: 0.2938 - accuracy: 0.8831 - val_loss: 0.2444 - val_accuracy: 0.9053 - lr: 7.5595e-12\n",
      "Epoch 117/150\n",
      "25/25 [==============================] - 29s 1s/step - loss: 0.2904 - accuracy: 0.8925 - val_loss: 0.2444 - val_accuracy: 0.9053 - lr: 5.6696e-12\n",
      "Epoch 118/150\n",
      "25/25 [==============================] - 31s 1s/step - loss: 0.2857 - accuracy: 0.8950 - val_loss: 0.2444 - val_accuracy: 0.9053 - lr: 5.6696e-12\n",
      "Epoch 119/150\n",
      "25/25 [==============================] - 32s 1s/step - loss: 0.2879 - accuracy: 0.8956 - val_loss: 0.2444 - val_accuracy: 0.9053 - lr: 4.2522e-12\n",
      "Epoch 120/150\n",
      "25/25 [==============================] - 33s 1s/step - loss: 0.2905 - accuracy: 0.8906 - val_loss: 0.2444 - val_accuracy: 0.9053 - lr: 4.2522e-12\n",
      "Epoch 121/150\n",
      "25/25 [==============================] - 33s 1s/step - loss: 0.2830 - accuracy: 0.8994 - val_loss: 0.2444 - val_accuracy: 0.9053 - lr: 3.1892e-12\n",
      "Epoch 122/150\n",
      "25/25 [==============================] - 33s 1s/step - loss: 0.2883 - accuracy: 0.8881 - val_loss: 0.2444 - val_accuracy: 0.9053 - lr: 3.1892e-12\n",
      "Epoch 123/150\n",
      "25/25 [==============================] - 34s 1s/step - loss: 0.2907 - accuracy: 0.8794 - val_loss: 0.2444 - val_accuracy: 0.9053 - lr: 2.3919e-12\n",
      "Epoch 124/150\n",
      "25/25 [==============================] - 34s 1s/step - loss: 0.2734 - accuracy: 0.8988 - val_loss: 0.2444 - val_accuracy: 0.9053 - lr: 2.3919e-12\n",
      "Epoch 125/150\n",
      "25/25 [==============================] - 36s 1s/step - loss: 0.2962 - accuracy: 0.8850 - val_loss: 0.2444 - val_accuracy: 0.9053 - lr: 1.7939e-12\n",
      "Epoch 126/150\n",
      "25/25 [==============================] - 35s 1s/step - loss: 0.2914 - accuracy: 0.8975 - val_loss: 0.2444 - val_accuracy: 0.9053 - lr: 1.7939e-12\n",
      "Epoch 127/150\n",
      "25/25 [==============================] - 34s 1s/step - loss: 0.2840 - accuracy: 0.8913 - val_loss: 0.2444 - val_accuracy: 0.9053 - lr: 1.3454e-12\n",
      "Epoch 128/150\n",
      "25/25 [==============================] - 33s 1s/step - loss: 0.2984 - accuracy: 0.8881 - val_loss: 0.2444 - val_accuracy: 0.9053 - lr: 1.3454e-12\n",
      "Epoch 129/150\n",
      "25/25 [==============================] - 33s 1s/step - loss: 0.2932 - accuracy: 0.8925 - val_loss: 0.2444 - val_accuracy: 0.9053 - lr: 1.0091e-12\n",
      "Epoch 130/150\n",
      "25/25 [==============================] - 33s 1s/step - loss: 0.2770 - accuracy: 0.8975 - val_loss: 0.2444 - val_accuracy: 0.9053 - lr: 1.0091e-12\n",
      "Epoch 131/150\n",
      "25/25 [==============================] - 33s 1s/step - loss: 0.3036 - accuracy: 0.8775 - val_loss: 0.2444 - val_accuracy: 0.9053 - lr: 7.5680e-13\n",
      "Epoch 132/150\n",
      "25/25 [==============================] - 33s 1s/step - loss: 0.2817 - accuracy: 0.8994 - val_loss: 0.2444 - val_accuracy: 0.9053 - lr: 7.5680e-13\n",
      "Epoch 133/150\n",
      "25/25 [==============================] - 34s 1s/step - loss: 0.2902 - accuracy: 0.8906 - val_loss: 0.2444 - val_accuracy: 0.9053 - lr: 5.6760e-13\n",
      "Epoch 134/150\n",
      "25/25 [==============================] - 34s 1s/step - loss: 0.2910 - accuracy: 0.8894 - val_loss: 0.2444 - val_accuracy: 0.9053 - lr: 5.6760e-13\n",
      "Epoch 135/150\n",
      "25/25 [==============================] - 34s 1s/step - loss: 0.2831 - accuracy: 0.8988 - val_loss: 0.2444 - val_accuracy: 0.9053 - lr: 4.2570e-13\n",
      "Epoch 136/150\n",
      "25/25 [==============================] - 35s 1s/step - loss: 0.2873 - accuracy: 0.8931 - val_loss: 0.2444 - val_accuracy: 0.9053 - lr: 4.2570e-13\n",
      "Epoch 137/150\n",
      "25/25 [==============================] - 36s 1s/step - loss: 0.2904 - accuracy: 0.8913 - val_loss: 0.2444 - val_accuracy: 0.9053 - lr: 3.1928e-13\n",
      "Epoch 138/150\n",
      "25/25 [==============================] - 32s 1s/step - loss: 0.2754 - accuracy: 0.8975 - val_loss: 0.2444 - val_accuracy: 0.9053 - lr: 3.1928e-13\n",
      "Epoch 139/150\n",
      "25/25 [==============================] - 34s 1s/step - loss: 0.2954 - accuracy: 0.8881 - val_loss: 0.2444 - val_accuracy: 0.9053 - lr: 2.3946e-13\n",
      "Epoch 140/150\n",
      "25/25 [==============================] - 32s 1s/step - loss: 0.2761 - accuracy: 0.9006 - val_loss: 0.2444 - val_accuracy: 0.9053 - lr: 2.3946e-13\n",
      "Epoch 141/150\n",
      "25/25 [==============================] - 31s 1s/step - loss: 0.2889 - accuracy: 0.8944 - val_loss: 0.2444 - val_accuracy: 0.9053 - lr: 1.7959e-13\n",
      "Epoch 142/150\n",
      "25/25 [==============================] - 31s 1s/step - loss: 0.2889 - accuracy: 0.8894 - val_loss: 0.2444 - val_accuracy: 0.9053 - lr: 1.7959e-13\n",
      "Epoch 143/150\n",
      "25/25 [==============================] - 32s 1s/step - loss: 0.2834 - accuracy: 0.8975 - val_loss: 0.2444 - val_accuracy: 0.9053 - lr: 1.3469e-13\n",
      "Epoch 144/150\n",
      "25/25 [==============================] - 32s 1s/step - loss: 0.3073 - accuracy: 0.8850 - val_loss: 0.2444 - val_accuracy: 0.9053 - lr: 1.3469e-13\n",
      "Epoch 145/150\n",
      "25/25 [==============================] - 32s 1s/step - loss: 0.3017 - accuracy: 0.8881 - val_loss: 0.2444 - val_accuracy: 0.9053 - lr: 1.0102e-13\n",
      "Epoch 146/150\n",
      "25/25 [==============================] - 32s 1s/step - loss: 0.2812 - accuracy: 0.8988 - val_loss: 0.2444 - val_accuracy: 0.9053 - lr: 1.0102e-13\n",
      "Epoch 147/150\n",
      "25/25 [==============================] - 33s 1s/step - loss: 0.2929 - accuracy: 0.8894 - val_loss: 0.2444 - val_accuracy: 0.9053 - lr: 7.5766e-14\n",
      "Epoch 148/150\n",
      "25/25 [==============================] - 33s 1s/step - loss: 0.2806 - accuracy: 0.9000 - val_loss: 0.2444 - val_accuracy: 0.9053 - lr: 7.5766e-14\n",
      "Epoch 149/150\n",
      "25/25 [==============================] - 33s 1s/step - loss: 0.2970 - accuracy: 0.8856 - val_loss: 0.2444 - val_accuracy: 0.9053 - lr: 5.6824e-14\n",
      "Epoch 150/150\n",
      "25/25 [==============================] - 33s 1s/step - loss: 0.2930 - accuracy: 0.8925 - val_loss: 0.2444 - val_accuracy: 0.9053 - lr: 5.6824e-14\n"
     ]
    }
   ],
   "source": [
    "from tensorflow.keras.callbacks import EarlyStopping, ModelCheckpoint\n",
    "\n",
    "# filepath = \"/content/drive/MyDrive/projek0//model/modeldropout.h5\"\n",
    "# checkpoint = ModelCheckpoint(filepath, monitor='val_acc', verbose=1, \n",
    "#                              save_best_only=True, mode='max')\n",
    "                              \n",
    "                              \n",
    "# callbacks_list = [checkpoint]\n",
    "\n",
    "history = model2.fit(train_generator, callbacks=[lr_sched],\n",
    "                    validation_data=validation_generator,\n",
    "                    epochs=150,)"
   ]
  },
  {
   "cell_type": "code",
   "execution_count": 19,
   "metadata": {
    "id": "CbzhVIpDDgJc"
   },
   "outputs": [
    {
     "data": {
      "text/plain": [
       "<matplotlib.legend.Legend at 0x1df1091cfd0>"
      ]
     },
     "execution_count": 19,
     "metadata": {},
     "output_type": "execute_result"
    },
    {
     "data": {
      "image/png": "[encoded data removed]",
      "text/plain": [
       "<Figure size 1440x432 with 2 Axes>"
      ]
     },
     "metadata": {
      "needs_background": "light"
     },
     "output_type": "display_data"
    }
   ],
   "source": [
    "#plot model 1\n",
    "fig, (plt1, plt2) = plt.subplots(1,2, figsize=(20,6)) #buat bikin subplot\n",
    "\n",
    "plt1.figsize=(10,8)\n",
    "plt1.plot(np.arange(0, 150), history.history[\"loss\"], label=\"loss\")\n",
    "plt1.plot(np.arange(0, 150), history.history[\"val_loss\"], label=\"val_loss\")\n",
    "plt1.set_title(\"Loss Result Plot\")\n",
    "plt1.set_xlabel(\"Epoch #\")\n",
    "plt1.set_ylabel(\"Loss\")\n",
    "plt1.legend()\n",
    "\n",
    "plt2.figsize=(10,8)\n",
    "plt2.plot(np.arange(0, 150), history.history[\"accuracy\"], label=\"acc\")\n",
    "plt2.plot(np.arange(0, 150), history.history[\"val_accuracy\"], label=\"val_acc\")\n",
    "plt2.set_title(\"Acc Result Plot\")\n",
    "plt2.set_xlabel(\"Epoch #\")\n",
    "plt2.set_ylabel(\"Acc\")\n",
    "plt2.legend()"
   ]
  },
  {
   "cell_type": "code",
   "execution_count": 20,
   "metadata": {},
   "outputs": [
    {
     "name": "stdout",
     "output_type": "stream",
     "text": [
      "              precision    recall  f1-score   support\n",
      "\n",
      "           0       0.82      0.84      0.83        95\n",
      "           1       0.97      1.00      0.98        95\n",
      "           2       0.97      0.99      0.98        95\n",
      "           3       0.86      0.79      0.82        95\n",
      "\n",
      "    accuracy                           0.91       380\n",
      "   macro avg       0.90      0.91      0.90       380\n",
      "weighted avg       0.90      0.91      0.90       380\n",
      "\n"
     ]
    }
   ],
   "source": [
    "#Evaluasi menggunakan classification report\n",
    "%matplotlib inline\n",
    "\n",
    "import matplotlib.pyplot as plt\n",
    "import numpy as np\n",
    "from keras.models import load_model\n",
    "from sklearn.metrics import classification_report, confusion_matrix\n",
    "\n",
    "ypred = model2.predict(validation_generator)\n",
    "prediction = np.argmax(ypred, axis=1)\n",
    "print(classification_report(validation_generator.classes, prediction))"
   ]
  },
  {
   "cell_type": "code",
   "execution_count": 22,
   "metadata": {
    "scrolled": true
   },
   "outputs": [
    {
     "name": "stdout",
     "output_type": "stream",
     "text": [
      "Confusion matrix, without normalization\n",
      "[[80  1  2 12]\n",
      " [ 0 95  0  0]\n",
      " [ 1  0 94  0]\n",
      " [17  2  1 75]]\n"
     ]
    },
    {
     "data": {
      "image/png": "[encoded data removed]",
      "text/plain": [
       "<Figure size 432x288 with 2 Axes>"
      ]
     },
     "metadata": {
      "needs_background": "light"
     },
     "output_type": "display_data"
    }
   ],
   "source": [
    "#Evaluasi menggunakan confusion matrix\n",
    "\n",
    "import itertools\n",
    "def plot_confusion_matrix(cm, classes,\n",
    "                          normalize=False,\n",
    "                          title='Confusion matrix',\n",
    "                          cmap=plt.cm.Blues):\n",
    "    if normalize:\n",
    "        cm = cm.astype('float') / cm.sum(axis=1)[:, np.newaxis]\n",
    "        print(\"Normalized confusion matrix\")\n",
    "    else:\n",
    "        print('Confusion matrix, without normalization')\n",
    "\n",
    "    print(cm)\n",
    "\n",
    "    plt.imshow(cm, interpolation='nearest', cmap=cmap)\n",
    "    plt.title(title)\n",
    "    plt.colorbar()\n",
    "    tick_marks = np.arange(len(classes))\n",
    "    plt.xticks(tick_marks, classes, rotation=45)\n",
    "    plt.yticks(tick_marks, classes)\n",
    "\n",
    "    fmt = '.2f' if normalize else 'd'\n",
    "    thresh = cm.max() / 2.\n",
    "    for i, j in itertools.product(range(cm.shape[0]), range(cm.shape[1])):\n",
    "        plt.text(j, i, format(cm[i, j], fmt),\n",
    "                 horizontalalignment=\"center\",\n",
    "                 color=\"white\" if cm[i, j] > thresh else \"black\")\n",
    "\n",
    "    plt.tight_layout()\n",
    "    plt.ylabel('Actual')\n",
    "    plt.xlabel('Predicted')\n",
    "\n",
    "cnf_matrix=confusion_matrix(validation_generator.classes,prediction)\n",
    "plot_confusion_matrix(cnf_matrix, classes=validation_generator.class_indices)"
   ]
  },
  {
   "cell_type": "code",
   "execution_count": 23,
   "metadata": {},
   "outputs": [],
   "source": [
    "model2.save(\"modelmod5.h5\")"
   ]
  },
  {
   "cell_type": "code",
   "execution_count": null,
   "metadata": {},
   "outputs": [],
   "source": []
  }
 ],
 "metadata": {
  "colab": {
   "collapsed_sections": [],
   "name": "maize_pretrained_model.ipynb",
   "provenance": []
  },
  "kernelspec": {
   "display_name": "gputest",
   "language": "python",
   "name": "gputest"
  },
  "language_info": {
   "codemirror_mode": {
    "name": "ipython",
    "version": 3
   },
   "file_extension": ".py",
   "mimetype": "text/x-python",
   "name": "python",
   "nbconvert_exporter": "python",
   "pygments_lexer": "ipython3",
   "version": "3.9.7"
  }
 },
 "nbformat": 4,
 "nbformat_minor": 1
}
